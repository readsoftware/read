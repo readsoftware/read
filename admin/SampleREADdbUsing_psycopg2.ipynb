{
 "cells": [
  {
   "cell_type": "code",
   "execution_count": null,
   "metadata": {},
   "outputs": [],
   "source": [
    "#pip install psycopg2\n",
    "%load_ext autoreload\n",
    "%autoreload 2"
   ]
  },
  {
   "cell_type": "markdown",
   "metadata": {},
   "source": [
    "## Sample \"pyscopg2\" for PostgreSQL Database\n",
    "\n",
    "### Connecting to postgreSql database using *psycopg2* module"
   ]
  },
  {
   "cell_type": "code",
   "execution_count": null,
   "metadata": {},
   "outputs": [],
   "source": [
    "import psycopg2\n",
    "from psycopg2.extras import RealDictCursor\n",
    "import os\n",
    "\n",
    "'''\n",
    "Use os getenv() to better secure user and password information\n",
    "or if standalone system place strings directly\n",
    "dbAdminUsername = 'dbusername'\n",
    "dbAdminPassword = 'dbpassword'\n",
    "'''\n",
    "dbAdminUsername = os.getenv('POSTGRES_USER')\n",
    "dbAdminPassword = os.getenv('POSTGRES_PASSWORD')\n",
    "\n",
    "#wrap in try to handle connection exceptions\n",
    "try:\n",
    "    dbname = \"testdb\"\n",
    "    conn = psycopg2.connect(host=\"localhost\",\n",
    "                            port= \"5432\",\n",
    "                            database=dbname, \n",
    "                            user=\"dbAdminUsername\", \n",
    "                            password=\"dbAdminPassword\")\n",
    "    cursor = conn.cursor()\n",
    "except (Exception, psycopg2.Error) as error :\n",
    "    print (f\"Error while connecting to PostgreSQL: {error}\")\n",
    "finally:\n",
    "    if (cursor):\n",
    "        print(f\"connected to db- {dbname}\")"
   ]
  },
  {
   "cell_type": "markdown",
   "metadata": {},
   "source": [
    "### executing a query and getting a record"
   ]
  },
  {
   "cell_type": "code",
   "execution_count": null,
   "metadata": {},
   "outputs": [],
   "source": [
    "cursor.execute(\"SELECT * from sometable;\")\n",
    "record = cursor.fetchone()\n",
    "print(\"Retrieved table-row - \", record,\"\\n\")\n"
   ]
  },
  {
   "cell_type": "markdown",
   "metadata": {},
   "source": [
    "### finding column names"
   ]
  },
  {
   "cell_type": "code",
   "execution_count": null,
   "metadata": {},
   "outputs": [],
   "source": [
    "column_names = []\n",
    "data_rows = []\n",
    "cursor.execute(\"SELECT * from sometable order by column1, column2;\")\n",
    "column_names = [desc[0] for desc in cursor.description]\n",
    "data_rows = cursor.fetchall()\n",
    "\n",
    "print(f\"Column names: {column_names}\")"
   ]
  },
  {
   "cell_type": "markdown",
   "metadata": {},
   "source": [
    "### closing the connection"
   ]
  },
  {
   "cell_type": "code",
   "execution_count": null,
   "metadata": {},
   "outputs": [],
   "source": [
    "#closing database connection.\n",
    "if(conn):\n",
    "    cursor.close()\n",
    "    conn.close()\n",
    "    print(f\"PostgreSQL connection to {dbname} is closed\")\n",
    "\n"
   ]
  },
  {
   "cell_type": "markdown",
   "metadata": {},
   "source": [
    "### create a pandas DataFrame from the query results"
   ]
  },
  {
   "cell_type": "code",
   "execution_count": null,
   "metadata": {},
   "outputs": [],
   "source": [
    "import pandas as pd\n",
    "data = pd.DataFrame(data_rows)\n",
    "data.columns = column_names\n",
    "data.head()"
   ]
  }
 ],
 "metadata": {
  "interpreter": {
   "hash": "97ae724bfa85b9b34df7982b8bb8c7216f435b92902d749e4263f71162bea840"
  },
  "kernelspec": {
   "display_name": "Python 3.8.3 64-bit ('base')",
   "language": "python",
   "name": "python3"
  },
  "language_info": {
   "codemirror_mode": {
    "name": "ipython",
    "version": 3
   },
   "file_extension": ".py",
   "mimetype": "text/x-python",
   "name": "python",
   "nbconvert_exporter": "python",
   "pygments_lexer": "ipython3",
   "version": "3.8.3"
  }
 },
 "nbformat": 4,
 "nbformat_minor": 2
}
