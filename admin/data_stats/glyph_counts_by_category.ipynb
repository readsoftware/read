{
 "cells": [
  {
   "cell_type": "code",
   "execution_count": null,
   "metadata": {},
   "outputs": [],
   "source": [
    "%load_ext autoreload\n",
    "%autoreload 2"
   ]
  },
  {
   "cell_type": "code",
   "execution_count": null,
   "metadata": {},
   "outputs": [],
   "source": [
    "import os, sys\n",
    "import pandas as pd\n",
    "#add parent dir to module search path to find readQueryCursor module\n",
    "sys.path.append(os.path.dirname(os.getcwd()))\n",
    "import module.readQueryCursor as rqc\n",
    "import module.readStatistics as rs\n",
    "\n",
    "# enter database connection information\n",
    "dbname = 'testdb'\n",
    "user = 'postgres'\n",
    "password = 'password'\n",
    "textInvInclusion = []\n",
    "textInvExclusion = ['IliadRef','4test', '8test', 'Need CKN', 'to delete', 'test']\n",
    "\n",
    "#setup readQueryCursor connection configuration\n",
    "conf = rqc.readConnConfig.copy()\n",
    "conf['database'] = dbname\n",
    "conf['user'] = user\n",
    "conf['password'] = password\n",
    "#create a Read Query Cursor connected to the database\n",
    "myRQC = rqc.ReadQueryCursor(conf)\n",
    "\n",
    "# set default connection for ReadStatsHelper\n",
    "rs.setReadStatsConnParameter(key='database', value=dbname)\n",
    "rs.setReadStatsConnParameter(key='user', value=user)\n",
    "rs.setReadStatsConnParameter(key='password', value=password)\n",
    "myRSH = rs.ReadStatisticsHelper(myRQC)\n",
    "\n",
    "def getNextOutputFilename(path = \"log\", ext=\"txt\", limit = 10):\n",
    "  i = 0\n",
    "  filepath = path + \".\" + ext\n",
    "  while os.path.exists(filepath) and i < limit:\n",
    "    i += 1\n",
    "    filepath = path + f\"({1})\" + \".\" + ext\n",
    "  return filepath\n",
    "\n",
    "# build query for text\n",
    "query = \"SELECT * FROM text WHERE not txt_owner_id = 1\"\n",
    "if len(textInvInclusion > 0):\n",
    "  strInclusionList = \"', '\".join(textInvInclusion)\n",
    "  query += f\" AND txt_ckn in ('{strInclusionList}')\"\n",
    "if len(textInvExclusion) > 0:\n",
    "  strExclusionList = \"', '\".join(textInvExclusion)\n",
    "  query += f\" AND not txt_ckn in ('{strExclusionList}')\"\n",
    "query += \" ORDER BY txt_ckn;\"\n",
    "# get text by invNum from database\n",
    "textsByInvNum = {}\n",
    "txtInvNumList = []\n",
    "myRQC.query(query)\n",
    "if myRQC.hasError():\n",
    "  print(f\"Error encountered while running query: '{myRQC.getQuery()}'\")\n",
    "else:\n",
    "  textsByInvNum = myRQC.getRowsAsIndexDict(myRQC.getColumnNames().index('txt_ckn'))\n",
    "  dfTexts = pd.DataFrame(textsByInvNum)\n",
    "  dfTexts.head()\n",
    "  outFilename = getNextOutputFilename(path = f\"output/texts_info_{dbname}\", ext = \".csv\")\n",
    "  dfTexts.to_csv(outFilename)\n",
    "  txtInvNumList = list(textsByInvNum.keys())\n",
    "  print(f\"Found {len(txtInvNumList)} text inventory numbers\")\n"
   ]
  },
  {
   "cell_type": "markdown",
   "metadata": {},
   "source": [
    "## TODO:\n",
    "- Create library with functions that select output type HTML, json, xslx, csv, ... and return as stream to browser or download as file.\n",
    "- Add total column for multi column counts."
   ]
  },
  {
   "cell_type": "code",
   "execution_count": null,
   "metadata": {},
   "outputs": [],
   "source": [
    "graCountsByTxtInv = {}\n",
    "for txtInv in txtInvNumList:\n",
    "  graCountsByTxtInv[txtInv] = myRSH.getGraphemeCountsByText(txtInv)\n",
    "dfGraphemeCounts = pd.DataFrame(graCountsByTxtInv)\n",
    "dfGraphemeCounts.head()\n",
    "outFilename = getNextOutputFilename(path = f\"output/grapheme_counts_by_text_{dbname}\", ext = \"csv\")\n",
    "dfGraphemeCounts.to_csv(outFilename)\n"
   ]
  },
  {
   "cell_type": "code",
   "execution_count": null,
   "metadata": {},
   "outputs": [],
   "source": [
    "graCountsByImageName = myRSH.getGraphemeCountsByImage()\n",
    "dfGraphemeCountsByImage = pd.DataFrame(graCountsByImageName)\n",
    "dfGraphemeCountsByImage.head()\n",
    "outFilename = getNextOutputFilename(path = f\"output/grapheme_counts_by_image_name_{dbname}\", ext = \"csv\")\n",
    "dfGraphemeCountsByImage.to_csv(outFilename)\n"
   ]
  },
  {
   "cell_type": "code",
   "execution_count": null,
   "metadata": {},
   "outputs": [],
   "source": [
    "featureTypeName = 'basetype'\n",
    "featureValue = '1'\n",
    "featureTypeTagID = myRQC.getTermIDStrict(featureValue,featureTypeName)\n",
    "featureValueShortName = myRQC.getTermCode(featureTypeTagID)\n",
    "graCountsByImageByTagType = myRSH.getGraphemeCountsByImage(featureTypeTagID)\n",
    "dfGraphemeCountsByTagType = pd.DataFrame(graCountsByImageByTagType)\n",
    "dfGraphemeCountsByTagType.head()\n",
    "dfGraphemeCountsByTagType.to_csv(f\"output/{featureValueShortName}_grapheme_counts_by_image_name_{dbname}.csv\")"
   ]
  }
 ],
 "metadata": {
  "interpreter": {
   "hash": "97ae724bfa85b9b34df7982b8bb8c7216f435b92902d749e4263f71162bea840"
  },
  "kernelspec": {
   "display_name": "Python 3.8.3 ('base')",
   "language": "python",
   "name": "python3"
  },
  "language_info": {
   "codemirror_mode": {
    "name": "ipython",
    "version": 3
   },
   "file_extension": ".py",
   "mimetype": "text/x-python",
   "name": "python",
   "nbconvert_exporter": "python",
   "pygments_lexer": "ipython3",
   "version": "3.8.3"
  },
  "orig_nbformat": 4
 },
 "nbformat": 4,
 "nbformat_minor": 2
}
