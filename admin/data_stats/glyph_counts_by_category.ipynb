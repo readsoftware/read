{
 "cells": [
  {
   "cell_type": "code",
   "execution_count": null,
   "metadata": {},
   "outputs": [],
   "source": [
    "%load_ext autoreload\n",
    "%autoreload 2"
   ]
  },
  {
   "cell_type": "code",
   "execution_count": null,
   "metadata": {},
   "outputs": [],
   "source": [
    "import os, sys\n",
    "import pandas as pd\n",
    "#add parent dir to module search path to find readQueryCursor module\n",
    "sys.path.append(os.path.dirname(os.getcwd()))\n",
    "import module.readQueryCursor as rqc\n",
    "import read_stats as rs\n",
    "\n",
    "dbname = 'testdb'\n",
    "user = 'postgres'\n",
    "password = 'password'\n",
    "\n",
    "conf = rqc.readConnConfig.copy()\n",
    "conf['database'] = dbname\n",
    "conf['user'] = user\n",
    "conf['password'] = password\n",
    "# set default connection for ReadStatHelper\n",
    "rs.setStatReadConnection(key='database', value=dbname)\n",
    "rs.setStatReadConnection(key='user', value=user)\n",
    "rs.setStatReadConnection(key='password', value=password)\n",
    "myRQC = rqc.ReadQueryCursor(conf)\n",
    "myRSH = rs.ReadStatisticsHelper(myRQC)\n",
    "\n",
    "''' get text by invNo from database'''\n",
    "myRQC.query(\"SELECT * FROM text WHERE not txt_owner_id = 1 and not txt_ckn = 'IliadRef';\")\n",
    "textsByInvNo = myRQC.getRowsAsIndexDict(myRQC.getColumnNames().index('txt_ckn'))\n",
    "txtInvNoList = list(textsByInvNo.keys())\n",
    "\n"
   ]
  },
  {
   "cell_type": "code",
   "execution_count": null,
   "metadata": {},
   "outputs": [],
   "source": [
    "graCountsByTxtInv = {}\n",
    "for txtInv in txtInvNoList:\n",
    "  graCountsByTxtInv[txtInv] = myRSH.getGraphemeCountsByText(txtInv)\n",
    "dfGraphemeCounts = pd.DataFrame(graCountsByTxtInv)\n",
    "dfGraphemeCounts.head()\n",
    "dfGraphemeCounts.to_csv(f\"output/grapheme_counts_by_text_{dbname}.csv\")"
   ]
  },
  {
   "cell_type": "code",
   "execution_count": null,
   "metadata": {},
   "outputs": [],
   "source": [
    "graCountsByImageName = myRSH.getGraphemeCountsByImage()\n",
    "dfGraphemeCounts = pd.DataFrame(graCountsByImageName)\n",
    "dfGraphemeCounts.head()\n",
    "dfGraphemeCounts.to_csv(f\"output/grapheme_counts_by_image_name_{dbname}.csv\")"
   ]
  },
  {
   "cell_type": "code",
   "execution_count": null,
   "metadata": {},
   "outputs": [],
   "source": [
    "bt1BaseTypeTagID = myRQC.getTermIDStrict('1','basetype')\n",
    "graCountsByImageName = myRSH.getGraphemeCountsByImage(dbname,bt1BaseTypeTagID)\n",
    "dfGraphemeCounts = pd.DataFrame(graCountsByImageName)\n",
    "dfGraphemeCounts.head()\n",
    "dfGraphemeCounts.to_csv(f\"output/bt1_grapheme_counts_by_image_name_{dbname}.csv\")"
   ]
  }
 ],
 "metadata": {
  "interpreter": {
   "hash": "97ae724bfa85b9b34df7982b8bb8c7216f435b92902d749e4263f71162bea840"
  },
  "kernelspec": {
   "display_name": "Python 3.8.3 ('base')",
   "language": "python",
   "name": "python3"
  },
  "language_info": {
   "codemirror_mode": {
    "name": "ipython",
    "version": 3
   },
   "file_extension": ".py",
   "mimetype": "text/x-python",
   "name": "python",
   "nbconvert_exporter": "python",
   "pygments_lexer": "ipython3",
   "version": "3.8.3"
  },
  "orig_nbformat": 4
 },
 "nbformat": 4,
 "nbformat_minor": 2
}
