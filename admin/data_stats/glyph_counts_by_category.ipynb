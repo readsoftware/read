{
 "cells": [
  {
   "cell_type": "code",
   "execution_count": null,
   "metadata": {},
   "outputs": [],
   "source": [
    "%load_ext autoreload\n",
    "%autoreload 2"
   ]
  },
  {
   "cell_type": "code",
   "execution_count": null,
   "metadata": {},
   "outputs": [],
   "source": [
    "import os, sys\n",
    "import pandas as pd\n",
    "#add parent dir to module search path to find readQueryCursor module\n",
    "sys.path.append(os.path.dirname(os.getcwd()))\n",
    "import module.readQueryCursor as rqc\n",
    "import module.readStatistics as rs\n",
    "\n",
    "# enter database connection information\n",
    "dbname = 'testdb'\n",
    "user = 'dbadminuser'\n",
    "password = 'password'\n",
    "textInvInclusion = []\n",
    "textInvExclusion = ['Need CKN', 'to delete', 'test']\n",
    "#textInvExclusion = ['IliadRef','4test', '8test', 'Need CKN', 'to delete', 'test']\n",
    "\n",
    "#setup readQueryCursor connection configuration\n",
    "conf = rqc.readConnConfig.copy()\n",
    "conf['database'] = dbname\n",
    "conf['user'] = user\n",
    "conf['password'] = password\n",
    "#create a Read Query Cursor connected to the database\n",
    "myRQC = rqc.ReadQueryCursor(conf)\n",
    "\n",
    "# set default connection for ReadStatsHelper\n",
    "rs.setReadStatsConnParameter(key='database', value=dbname)\n",
    "rs.setReadStatsConnParameter(key='user', value=user)\n",
    "rs.setReadStatsConnParameter(key='password', value=password)\n",
    "myRSH = rs.ReadStatisticsHelper(myRQC)\n",
    "\n",
    "# build query for text\n",
    "query = \"SELECT * FROM text WHERE not txt_owner_id = 1\"\n",
    "if len(textInvInclusion > 0):\n",
    "  strInclusionList = \"', '\".join(textInvInclusion)\n",
    "  query += f\" AND txt_ckn in ('{strInclusionList}')\"\n",
    "if len(textInvExclusion) > 0:\n",
    "  strExclusionList = \"', '\".join(textInvExclusion)\n",
    "  query += f\" AND not txt_ckn in ('{strExclusionList}')\"\n",
    "query += \" ORDER BY txt_ckn;\"\n",
    "# get text by invNum from database\n",
    "textsByInvNum = {}\n",
    "txtInvNumList = []\n",
    "myRQC.query(query)\n",
    "if myRQC.hasError():\n",
    "  print(f\"Error encountered while running query: '{myRQC.getQuery()}'\")\n",
    "else:\n",
    "  textsByInvNum = myRQC.getRowsAsIndexDict(myRQC.getColumnNames().index('txt_ckn'))\n",
    "  dfTexts = pd.DataFrame(textsByInvNum)\n",
    "  dfTexts.head()\n",
    "  myRSH.saveStatisticDataFrame(dfTexts, outdir='output', filename=f\"texts_info_{dbname}\", extType=\"csv\")\n",
    "  txtInvNumList = list(textsByInvNum.keys())\n",
    "  print(f\"Found {len(txtInvNumList)} text inventory numbers\")\n"
   ]
  },
  {
   "cell_type": "code",
   "execution_count": null,
   "metadata": {},
   "outputs": [],
   "source": [
    "graCountsByTxtInv = {}\n",
    "for txtInv in txtInvNumList:\n",
    "  graCountsByTxtInv[txtInv] = myRSH.getGraphemeCountsByText(txtInv)\n",
    "dfGraphemeCounts = pd.DataFrame(graCountsByTxtInv)\n",
    "dfGraphemeCounts.head()\n",
    "myRSH.saveStatisticDataFrame(dfTexts,\n",
    "                             outdir='output', \n",
    "                             filename=f\"grapheme_counts_by_text_{dbname}\",\n",
    "                             extType=\"csv\")\n"
   ]
  },
  {
   "cell_type": "code",
   "execution_count": null,
   "metadata": {},
   "outputs": [],
   "source": [
    "graCountsByImageName = myRSH.getGraphemeCountsByImage()\n",
    "dfGraphemeCountsByImage = pd.DataFrame(graCountsByImageName)\n",
    "dfGraphemeCountsByImage.head()\n",
    "myRSH.saveStatisticDataFrame(dfGraphemeCountsByImage,\n",
    "                             outdir='output', \n",
    "                             filename=f\"grapheme_counts_by_image_name_{dbname}\",\n",
    "                             extType=\"csv\")\n"
   ]
  },
  {
   "cell_type": "code",
   "execution_count": null,
   "metadata": {},
   "outputs": [],
   "source": [
    "featureTypeName = 'basetype'\n",
    "featureValue = '1'\n",
    "featureTypeTagID = myRQC.getTermIDStrict(featureValue,featureTypeName)\n",
    "featureValueShortName = myRQC.getTermCode(featureTypeTagID)\n",
    "graCountsByImageByTagType = myRSH.getGraphemeCountsByImage(featureTypeTagID)\n",
    "dfGraphemeCountsByTagType = pd.DataFrame(graCountsByImageByTagType)\n",
    "myRSH.saveStatisticDataFrame(dfGraphemeCountsByTagType,\n",
    "                             outdir='output', \n",
    "                             filename=f\"{featureValueShortName}_grapheme_counts_by_image_name_{dbname}\",\n",
    "                             extType=\"csv\")\n",
    "dfGraphemeCountsByTagType.head()\n"
   ]
  }
 ],
 "metadata": {
  "interpreter": {
   "hash": "97ae724bfa85b9b34df7982b8bb8c7216f435b92902d749e4263f71162bea840"
  },
  "kernelspec": {
   "display_name": "Python 3.8.3 ('base')",
   "language": "python",
   "name": "python3"
  },
  "language_info": {
   "codemirror_mode": {
    "name": "ipython",
    "version": 3
   },
   "file_extension": ".py",
   "mimetype": "text/x-python",
   "name": "python",
   "nbconvert_exporter": "python",
   "pygments_lexer": "ipython3",
   "version": "3.8.3"
  },
  "orig_nbformat": 4
 },
 "nbformat": 4,
 "nbformat_minor": 2
}
