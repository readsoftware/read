{
 "cells": [
  {
   "cell_type": "code",
   "execution_count": null,
   "metadata": {},
   "outputs": [],
   "source": [
    "#pip install psycopg2\n",
    "%load_ext autoreload\n",
    "%autoreload 2"
   ]
  },
  {
   "cell_type": "markdown",
   "metadata": {},
   "source": [
    "## Working with readQueryCursor library\n",
    "\n",
    "### connecting to postgreSQL database"
   ]
  },
  {
   "cell_type": "code",
   "execution_count": null,
   "metadata": {},
   "outputs": [],
   "source": [
    "import module.readQueryCursor as rqc\n"
   ]
  },
  {
   "cell_type": "markdown",
   "metadata": {},
   "source": [
    "##### Use a connection dictionary directly to create a READ QueryCursor that connects to your database"
   ]
  },
  {
   "cell_type": "code",
   "execution_count": null,
   "metadata": {},
   "outputs": [],
   "source": [
    "\n",
    "myRQC = rqc.ReadQueryCursor({\n",
    "             'host':'localhost',\n",
    "             'port':'5432',\n",
    "             'database':'dbname',\n",
    "             'user': 'dbusername',\n",
    "             'password':'dbpassword'\n",
    "            })"
   ]
  },
  {
   "cell_type": "markdown",
   "metadata": {},
   "source": [
    "##### Set the libraries default connection then create READ QueryCursors that connect using the default connection"
   ]
  },
  {
   "cell_type": "code",
   "execution_count": null,
   "metadata": {},
   "outputs": [],
   "source": [
    "rqc.setReadConnection('user','adminuser')\n",
    "rqc.setReadConnection('password','adminsecret')\n",
    "rqc.setReadConnection('database','mydb1')\n",
    "myRQCdb1 = rqc.ReadQueryCursor()\n",
    "rqc.setReadConnection('database','mydb2')\n",
    "myRQCdb2 = rqc.ReadQueryCursor()"
   ]
  },
  {
   "cell_type": "markdown",
   "metadata": {},
   "source": [
    "### Update a column in a record in a table using ReadQueryCursor "
   ]
  },
  {
   "cell_type": "code",
   "execution_count": null,
   "metadata": {},
   "outputs": [],
   "source": [
    "txtImgIDs = [1,3,4]\n",
    "# (table name, dict of columnname : updatevalue, dict of columnname : selectvalue \n",
    "myRQC.update(\"text\",{\"txt_image_ids\":\"{\"+','.join([str(i) for i in txtImgIDs])+\"}\"},{\"txt_id\":\"1\"})\n",
    "myRQC.seek(0)\n",
    "myRQC.getRow()\n"
   ]
  },
  {
   "cell_type": "markdown",
   "metadata": {},
   "source": [
    "### Get term id using term and parent term (unambiguous)"
   ]
  },
  {
   "cell_type": "code",
   "execution_count": null,
   "metadata": {},
   "outputs": [],
   "source": [
    "myRQC.getTermID(\"image\",\"baselinetype\")"
   ]
  },
  {
   "cell_type": "markdown",
   "metadata": {},
   "source": [
    "#### Check if 'image' type of baseline is unique"
   ]
  },
  {
   "cell_type": "code",
   "execution_count": null,
   "metadata": {},
   "outputs": [],
   "source": [
    "myRQC.query(\"SELECT c.trm_id FROM term c LEFT JOIN term p on c.trm_parent_id = p.trm_id WHERE c.trm_labels ilike 'image' and p.trm_labels ilike 'baselinetype'\")\n",
    "myRQC.getResultCount()"
   ]
  }
 ],
 "metadata": {
  "interpreter": {
   "hash": "97ae724bfa85b9b34df7982b8bb8c7216f435b92902d749e4263f71162bea840"
  },
  "kernelspec": {
   "display_name": "Python 3.8.3 64-bit ('base')",
   "language": "python",
   "name": "python3"
  },
  "language_info": {
   "codemirror_mode": {
    "name": "ipython",
    "version": 3
   },
   "file_extension": ".py",
   "mimetype": "text/x-python",
   "name": "python",
   "nbconvert_exporter": "python",
   "pygments_lexer": "ipython3",
   "version": "3.8.3"
  }
 },
 "nbformat": 4,
 "nbformat_minor": 2
}
