{
 "cells": [
  {
   "cell_type": "code",
   "execution_count": null,
   "metadata": {},
   "outputs": [],
   "source": [
    "#pip install psycopg2\n",
    "%load_ext autoreload\n",
    "%autoreload 2"
   ]
  },
  {
   "cell_type": "code",
   "execution_count": null,
   "metadata": {},
   "outputs": [],
   "source": [
    "import psycopg2\n",
    "from psycopg2.extras import RealDictCursor\n",
    "try:\n",
    "    dbname = \"ncodex3\"\n",
    "    conn = psycopg2.connect(host=\"localhost\",\n",
    "                            port= \"5432\",\n",
    "                            database=dbname, \n",
    "                            user=\"postgres\", \n",
    "                            password=\"gandhari\")\n",
    "    cursor = conn.cursor()\n",
    "except (Exception, psycopg2.Error) as error :\n",
    "    print (\"Error while connecting to PostgreSQL\", error)\n",
    "finally:\n",
    "    if (cursor):\n",
    "        print(\"connected to db\",dbname)"
   ]
  },
  {
   "cell_type": "code",
   "execution_count": null,
   "metadata": {},
   "outputs": [],
   "source": [
    "cursor.execute(\"SELECT * from frames;\")\n",
    "record = cursor.fetchone()\n",
    "print(\"Retrieved frame - \", record,\"\\n\")\n"
   ]
  },
  {
   "cell_type": "code",
   "execution_count": null,
   "metadata": {},
   "outputs": [],
   "source": [
    "column_names = []\n",
    "data_rows = []\n",
    "cursor.execute(\"SELECT * from frames order by corpus_id, frame;\")\n",
    "column_names = [desc[0] for desc in cursor.description]\n",
    "#for row in cursor:\n",
    "#    data_rows.append(row)\n",
    "data_rows = cursor.fetchall()\n",
    "\n",
    "print(\"Column names: {}\\n\".format(column_names))"
   ]
  },
  {
   "cell_type": "code",
   "execution_count": null,
   "metadata": {},
   "outputs": [],
   "source": [
    "data_rows"
   ]
  },
  {
   "cell_type": "code",
   "execution_count": null,
   "metadata": {},
   "outputs": [],
   "source": [
    "#closing database connection.\n",
    "if(conn):\n",
    "    cursor.close()\n",
    "    conn.close()\n",
    "    print(\"PostgreSQL connection is closed\")\n",
    "\n"
   ]
  },
  {
   "cell_type": "code",
   "execution_count": null,
   "metadata": {},
   "outputs": [],
   "source": [
    "import pandas as pd\n",
    "data = pd.DataFrame(data_rows)\n",
    "data.columns = column_names\n",
    "data"
   ]
  },
  {
   "cell_type": "code",
   "execution_count": null,
   "metadata": {},
   "outputs": [],
   "source": [
    "import requests\n",
    "import json\n",
    "url = \"https://data.ncodex.org/m/api/manifests/c28a6369-3b7a-4ca6-a1d1-61a41ba675a1\"\n",
    "r = requests.get(url)\n",
    "itemDict = r.json()"
   ]
  },
  {
   "cell_type": "code",
   "execution_count": null,
   "metadata": {},
   "outputs": [],
   "source": [
    "ncx_manifest_metadata = json.dumps(itemDict['metadata'])\n",
    "ncx_manifest_metadata\n",
    "ncx_item_description = itemDict['description'][0]['@value']\n",
    "ncx_item_description\n",
    "ncx_images_license = itemDict['license']\n",
    "ncx_images_license\n",
    "ncx_images_attr = itemDict['attribution']\n",
    "ncx_images_attr\n",
    "image_count = len(itemDict['sequences'][0]['canvases'])\n",
    "image_count"
   ]
  },
  {
   "cell_type": "code",
   "execution_count": null,
   "metadata": {},
   "outputs": [],
   "source": [
    "import ncxmanifest as nmf\n",
    "import json\n",
    "#url = 'https://data.ncodex.org/m/api/manifests/c28a6369-3b7a-4ca6-a1d1-61a41ba675a1'\n",
    "#url = 'https://data.ncodex.org/m/stage/manifests/14437a72-37bb-415a-b3ac-ccedd5d3197c'\n",
    "#url = 'https://data.ncodex.org/m/api/manifests/e6f1fb90-eafe-4542-a990-ca64c989d0a6'\n",
    "#url = 'https://data.ncodex.org/m/prod/manifests/fefe1fc7-913e-40b2-9af2-c5961d0b7439'\n",
    "url = 'https://data.ncodex.org/m/prod/manifests/431f8636-7eab-4429-9999-871925361f25'\n",
    "ncxItemManifest = nmf.NCodexManifest(url)\n"
   ]
  },
  {
   "cell_type": "code",
   "execution_count": null,
   "metadata": {},
   "outputs": [],
   "source": [
    "ncxItemManifest.getItemImages()"
   ]
  },
  {
   "cell_type": "code",
   "execution_count": null,
   "metadata": {},
   "outputs": [],
   "source": [
    "a = {\"txt_title\":\"my text t1\",\"txt_ckn\":\"cki5\",\"txt_owner_id\":4}\n",
    "#['%s' if isinstance(v,str) else '%i' if isinstance(v,int) else '%n'  for v in list(a.values())]\n",
    "','.join([k+\"='\"+str(v)+\"'\" for k, v in a.items()])\n"
   ]
  },
  {
   "cell_type": "code",
   "execution_count": null,
   "metadata": {},
   "outputs": [],
   "source": [
    "import ncxQueryCursor as nqc\n",
    "\n",
    "myQC = nqc.NcxQueryCursor()"
   ]
  },
  {
   "cell_type": "code",
   "execution_count": null,
   "metadata": {},
   "outputs": [],
   "source": [
    "if myQC.hasError():\n",
    "    print(myQC.getError())\n",
    "else:\n",
    "    myQC.query(\"SELECT * from frames where corpus_id = 1 order by frame;\")\n",
    "    print(\"results count: \",myQC.getResultCount())\n",
    "#    for row in myQC:\n",
    "    print(myQC.getRow(4))\n",
    "    print(myQC.getColumnNames())\n",
    "#    myQC.seek()\n",
    "    for row in myQC:\n",
    "        print(myQC.getRow())\n",
    "        print(\"frame id =\",myQC.getColumnValue('frame'))\n"
   ]
  },
  {
   "cell_type": "code",
   "execution_count": null,
   "metadata": {},
   "outputs": [],
   "source": [
    "import readQueryCursor as rqc\n",
    "\n",
    "myRQC = rqc.ReadQueryCursor({\n",
    "             'host':'localhost',\n",
    "             'port':'5432',\n",
    "             'database':'homer',\n",
    "             'user': 'postgres',\n",
    "             'password':'gandhari'\n",
    "            })"
   ]
  },
  {
   "cell_type": "code",
   "execution_count": null,
   "metadata": {},
   "outputs": [],
   "source": [
    "def update(tableName,kvData,kvPKey):\n",
    "    \"\"\" update a row in the tableName table \"\"\"\n",
    "    sql = \"UPDATE \"\n",
    "    sql += tableName \n",
    "    sql += \" set \"\n",
    "    sql += ','.join([k+\"='\"+str(v)+\"'\" for k, v in kvData.items()])\n",
    "    sql += ' where '\n",
    "    sql += ','.join([k+\"=\"+str(v) for k, v in kvPKey.items()])\n",
    "    sql += ' RETURNING *'\n",
    "#    sql += list(kvPKey.keys())[0]\n",
    "\n",
    "    myRQC = rqc.ReadQueryCursor()\n",
    "    myRQC.query(sql,list(kvData.values()))\n",
    "    print(\"results count: \",myRQC.getResultCount())\n",
    "    for row in myRQC:\n",
    "        print(row)\n",
    "    print(myRQC.getColumnNames())\n"
   ]
  },
  {
   "cell_type": "code",
   "execution_count": null,
   "metadata": {},
   "outputs": [],
   "source": [
    "#'insert(\"Text\",{\"txt_title\":\"my text #2\",\"txt_ckn\":\"cki6\",\"txt_owner_id\":\"4\",\"txt_visibility_ids\":\"{6,11}\"},\"txt_id\")'\n",
    "update(\"Text\",{\"txt_title\":\"my text #5\",\"txt_ref\":\"i7\",\"txt_owner_id\":\"11\"},{\"txt_id\":\"7\"})\n"
   ]
  },
  {
   "cell_type": "code",
   "execution_count": null,
   "metadata": {},
   "outputs": [],
   "source": [
    "#myRQC.query(\"select * from text where txt_id = 1;\")\n",
    "#myRQC.seek(0)\n",
    "#txtImgIDs = myRQC.getColumnValue(\"txt_image_ids\")\n",
    "{\"txt_image_ids\":\"{\"+','.join([str(i) for i in txtImgIDs])+\"}\"}"
   ]
  },
  {
   "cell_type": "code",
   "execution_count": null,
   "metadata": {},
   "outputs": [],
   "source": [
    "myRQC.update(\"text\",{\"txt_image_ids\":\"{\"+','.join([str(i) for i in txtImgIDs])+\"}\"},{\"txt_id\":\"1\"})\n",
    "myRQC.seek(0)\n",
    "myRQC.getRow()\n"
   ]
  },
  {
   "cell_type": "code",
   "execution_count": null,
   "metadata": {},
   "outputs": [],
   "source": [
    "myRQC.getTermID(\"lineblock\",\"frame\")"
   ]
  },
  {
   "cell_type": "code",
   "execution_count": null,
   "metadata": {},
   "outputs": [],
   "source": [
    "myRQC.query(\"SELECT c.trm_id FROM term c LEFT JOIN term p on c.trm_parent_id = p.trm_id WHERE c.trm_labels ilike '%image%' and p.trm_labels ilike '%baselinetype%'\")\n",
    "myRQC.getResultCount()"
   ]
  },
  {
   "cell_type": "code",
   "execution_count": 1,
   "metadata": {},
   "outputs": [
    {
     "output_type": "stream",
     "name": "stdout",
     "text": [
      "connected to db gandhari_staging\n"
     ]
    }
   ],
   "source": [
    "import readQueryCursor as rqc\n",
    "\n",
    "myRQC = rqc.ReadQueryCursor(conf={\n",
    "             'host':'localhost',\n",
    "             'port':'5432',\n",
    "             'database':'gandhari_staging',\n",
    "             'user': 'postgres',\n",
    "             'password':'gandhari'\n",
    "            })"
   ]
  },
  {
   "cell_type": "code",
   "execution_count": 2,
   "metadata": {},
   "outputs": [],
   "source": [
    "fixes = [['edn53','Edition for CKI0053.1',[['seq:966','remove',['cmp:110','tok:3564']]]],\n",
    "['edn57','Edition for CKI0057.1',[['seq:1004','remove',['cmp:113','cmp:114']]]],\n",
    "['edn61','Edition for CKI0061.1',[['seq:1046','remove',['cmp:123']]]],\n",
    "['edn63','Edition for CKI0063.1',[['seq:1064','remove',['cmp:126']]]],\n",
    "['edn88','Edition for CKI0088.1',[['seq:1220','remove',['cmp:127']]]],\n",
    "['edn129','Edition for CKI0129.1',[['seq:1486','remove',['tok:4083']]]],\n",
    "['edn154','Edition for CKI0154.1',[['seq:1725','remove',['cmp:161']]]],\n",
    "['edn180','Edition for CKI0180.1',[['seq:1979','remove',['tok:4957']]]],\n",
    "['edn185','Edition for CKI0185.1',[['seq:41700',[]]]],\n",
    "['edn232','Edition for CKI0232.1',[['seq:2321','remove',['tok:5298']]]],\n",
    "['edn564','Edition for CKI0564.1',[['seq:5112','remove',['tok:9010']]]],\n",
    "['edn716','Edition for CKI0716.1',[['seq:6106','remove',['cmp:406']]]],\n",
    "['edn1078','Edition for CKI1073.1',[['seq:8408','remove',['cmp:493']]]],\n",
    "['edn1389','Edition for CKD0214.1',[['seq:14571','remove',['tok:25890']]]],\n",
    "['edn1401','Edition for CKD0226.1',[['seq:14783','remove',['tok:26571']]]],\n",
    "['edn1403','Edition for CKD0228.1',[['seq:14805','remove',['tok:26654']]]],\n",
    "['edn1421','Edition for CKD0246.1',[['seq:15073','remove',['tok:27226','tok:27228']]]],\n",
    "['edn1463','Edition for CKD0288.1',[['seq:15693','remove',['tok:29368']]]],\n",
    "['edn1473','Edition for CKD0298.1',[['seq:15899','remove',['tok:30097','tok:30098','tok:30107']]]],\n",
    "['edn1491','Edition for CKD0316.1',[['seq:16171','remove',['tok:30968']]]],\n",
    "['edn1493','Edition for CKD0318.1',[['seq:16203','remove',['tok:31130']]]],\n",
    "['edn1551','Edition for CKD0376.1',[['seq:17235','remove',['tok:35014','tok:35015','tok:35016']]]],\n",
    "['edn1594','Edition for CKD0419.1',[['seq:17997','remove',['cmp:817']]]],\n",
    "['edn1606','Edition for CKD0431.1',[['seq:18235','remove',['tok:38746']]]],\n",
    "['edn1607','Edition for CKD0432.1',[['seq:18277','remove',['tok:38910']]]],\n",
    "['edn1768','Edition for CKD0593.1',[['seq:22206','remove',['cmp:1013']]]],\n",
    "['edn1836','Edition for CKD0661.1',[['seq:23696','remove',['cmp:1080']]]],\n",
    "['edn1884','Edition for CKD0709.1',[['seq:24864','remove',['cmp:1099']]]],\n",
    "['edn2059','Edition for CKD0884.1',[['seq:27766','remove',['tok:66002','tok:66007']]]],\n",
    "['edn2072','Edition for CKM0001.1',[['seq:28020','remove',['tok:66674']],['seq:28362','remove',['tok:67275']],['seq:28436','remove',['tok:67405']]]],\n",
    "['edn2088','Edition for CKM0014.1',[['seq:30156',[]]]],\n",
    "['edn2093','Edition for CKM0018.1',[['seq:30647','remove',['tok:79600','tok:79601','tok:79602','tok:79603']]]],\n",
    "['edn2336','Marino 2020',[['seq:42015','remove',['tok:116850','tok:116851','tok:116852','tok:116853','tok:116858','tok:116862','tok:116882','tok:116890']]]],\n",
    "['edn2661','Edition for CKC0142.1',[['seq:40535','remove',['tok:113632']]]],\n",
    "['edn2748','Edition for CKC0229.1',[['seq:41057','remove',['tok:113955']]]],\n",
    "['edn2753','Edition for CKC0234.1',[['seq:41087','remove',['cmp:2334']]]],\n",
    "['edn2767','Edition for CKC0248.1',[['seq:41171','remove',['cmp:2337']]]],\n",
    "['edn2771','Edition for CKC0252.1',[['seq:41195','remove',['cmp:2338']]]],\n",
    "['edn2780','Edition for CKC0261.1',[['seq:41249','remove',['tok:114058','tok:114060']]]],\n",
    "['edn2784','Edition for CKC0265.1',[['seq:41273','remove',['tok:114073','tok:114075']]]],\n",
    "['edn2820','Edition for CKC0301.1',[['seq:41489','remove',['tok:114229','tok:114230','tok:114231','tok:114232','tok:114233']]]],\n",
    "['edn2840','Edition for CKC0321.1',[['seq:41609','remove',['tok:114308']]]],\n",
    "['edn2845','Edition for CKC0326.1',[['seq:41639','remove',['tok:11432','tok:114328','tok:114329']]]],\n",
    "['edn2846','Edition for CKC0327.1',[['seq:41645','remove',['tok:114330','tok:114331','tok:114332','tok:114335']]]],\n",
    "['edn2855','Edition for CKI0185.1_Marshall',[['seq:41700',[]]]],\n",
    "['edn2856','Edition for CKM0368.1',[['seq:41871',[]]]],\n",
    "['edn2865','Falk 2021',[['seq:42041','remove',['tok:116971']]]]]"
   ]
  },
  {
   "cell_type": "code",
   "execution_count": 3,
   "metadata": {},
   "outputs": [],
   "source": [
    "linkColTableLookupByPrefix = {\n",
    "    'seq':['sequence','seq_entity_ids'],\n",
    "    'cmp':['compound','cmp_component_ids'],\n",
    "    'inf':['inflection','inf_component_ids'],\n",
    "    'lem':['lemma','lem_component_ids'],\n",
    "    'edn':['edition','edn_sequence_ids'],\n",
    "    'tok':['token','tok_grapheme_ids'],\n",
    "    'scl':['syllablecluster','scl_grapheme_ids'],\n",
    "}\n",
    "\n",
    "def getChildLinksForContainer(containerGID):\n",
    "    if containerGID == None:\n",
    "        print(f'call to getChildLinkdsForContainer with invalid param {containerGID}')\n",
    "        return []\n",
    "    if containerGID.find(':') != 3:\n",
    "        print(f'call to getChildLinkdsForContainer expected GID to have : {containerGID}')\n",
    "        return []\n",
    "    prefix,entID = containerGID.split(\":\")\n",
    "    useGIDForm = False\n",
    "    if not prefix in linkColTableLookupByPrefix.keys():\n",
    "        print(f'call to getChildLinkdsForContainer unexpected prefix \"{prefix}\"')\n",
    "        return []\n",
    "    else:\n",
    "        tblName, colName = linkColTableLookupByPrefix.get(prefix)\n",
    "        myRQC.query(f\"select {colName} from {tblName} where {prefix}_id = {entID};\")\n",
    "        return myRQC.getRow(0)[0]    \n",
    "\n",
    "def adjustChildLinks(adjustmentList):\n",
    "    if adjustmentList == None or len(adjustmentList) == 0:\n",
    "        return [\"NOP: invalid or empty list, nothing to do\"]  \n",
    "    log = [\"Log run \"]\n",
    "    for fix in adjustmentList:\n",
    "        if fix == None or len(fix) < 3:\n",
    "            log.append(\"Found invalid command\")\n",
    "            continue\n",
    "        containerGID = fix[0]\n",
    "        containerLabel = fix[1]\n",
    "        cmdLists = fix[2]\n",
    "        if cmdLists == None or  len(cmdLists) == 0:\n",
    "            log.append(f\"Found invalid command lists for {containerGID} of {containerLabel}\")\n",
    "            continue\n",
    "        log.append(f\"********Processing commands for {containerGID} of {containerLabel}\")\n",
    "        log.append(\"command to check edition health, run before and after updates\")\n",
    "        log.append(f\"http://localhost/readV1RC/dev/testEditionLinks.php?db=gandhari_staging&ednIDs={containerGID[3:]}\")\n",
    "        for cmdList in cmdLists:\n",
    "            if cmdList == None or  len(cmdList) <3:\n",
    "                log.append(\"Found invalid command list\")\n",
    "                continue\n",
    "            trgGID = cmdList[0]\n",
    "            cmd = cmdList[1]\n",
    "            links = cmdList[2]\n",
    "            log.append(f\"Command for {trgGID} is {cmd} with links {str(links)}\")\n",
    "            childLinks = getChildLinksForContainer(trgGID)\n",
    "            if cmd == 'remove':\n",
    "                for link in links:\n",
    "                    if link in childLinks:\n",
    "                        childLinks.remove(link)\n",
    "                    else: \n",
    "                        log.append(f\"child link {link} not found in childlinks of {trgGID}.\")\n",
    "            # add code to ensure GID is correctly formed with :\n",
    "            prefix,entID = trgGID.split(\":\")\n",
    "            tblName, colName = linkColTableLookupByPrefix.get(prefix)\n",
    "            log.append(f\"UPDATE {tblName} set {colName} = '{{{str(childLinks).strip('[]')}}}' where {prefix}_id = {entID};\")\n",
    "    return log\n"
   ]
  },
  {
   "cell_type": "code",
   "execution_count": 5,
   "metadata": {},
   "outputs": [
    {
     "output_type": "stream",
     "name": "stdout",
     "text": [
      "Log run \n********Processing commands for edn53 of Edition for CKI0053.1\ncommand to check edition health, run before and after updates\nhttp://localhost/readV1RC/dev/testEditionLinks.php?db=gandhari_staging&ednIDs=53\nCommand for seq:966 is remove with links ['cmp:110', 'tok:3564']\nUPDATE sequence set seq_entity_ids = '{'tok:3535', 'tok:3536', 'tok:3537', 'cmp:108', 'tok:3542', 'tok:3543', 'cmp:109', 'tok:3549', 'tok:3550', 'tok:3551', 'tok:3552', 'tok:3553', 'tok:3554', 'tok:3555', 'tok:3556', 'tok:3557', 'tok:3558', 'tok:3559', 'tok:3560', 'tok:3563', 'tok:3565', 'tok:3566', 'tok:3567', 'tok:3568', 'tok:3569', 'tok:3570'}' where seq_id = 966;\n********Processing commands for edn57 of Edition for CKI0057.1\ncommand to check edition health, run before and after updates\nhttp://localhost/readV1RC/dev/testEditionLinks.php?db=gandhari_staging&ednIDs=57\nCommand for seq:1004 is remove with links ['cmp:113', 'cmp:114']\nUPDATE sequence set seq_entity_ids = '{'tok:3600', 'tok:3601', 'tok:3602', 'tok:3605', 'tok:3606', 'cmp:115', 'tok:3613', 'tok:3614'}' where seq_id = 1004;\n********Processing commands for edn61 of Edition for CKI0061.1\ncommand to check edition health, run before and after updates\nhttp://localhost/readV1RC/dev/testEditionLinks.php?db=gandhari_staging&ednIDs=61\nCommand for seq:1046 is remove with links ['cmp:123']\nUPDATE sequence set seq_entity_ids = '{'tok:3722', 'cmp:122', 'tok:3730', 'tok:3731', 'tok:3732', 'tok:3733', 'tok:3734', 'tok:3735', 'tok:3736', 'tok:3739', 'tok:3740', 'tok:3741'}' where seq_id = 1046;\n********Processing commands for edn63 of Edition for CKI0063.1\ncommand to check edition health, run before and after updates\nhttp://localhost/readV1RC/dev/testEditionLinks.php?db=gandhari_staging&ednIDs=63\nCommand for seq:1064 is remove with links ['cmp:126']\nUPDATE sequence set seq_entity_ids = '{'tok:3757', 'cmp:125', 'tok:3768', 'tok:3769', 'tok:3770', 'tok:3771', 'tok:3772'}' where seq_id = 1064;\n********Processing commands for edn88 of Edition for CKI0088.1\ncommand to check edition health, run before and after updates\nhttp://localhost/readV1RC/dev/testEditionLinks.php?db=gandhari_staging&ednIDs=88\nCommand for seq:1220 is remove with links ['cmp:127']\nUPDATE sequence set seq_entity_ids = '{'tok:3880'}' where seq_id = 1220;\n********Processing commands for edn129 of Edition for CKI0129.1\ncommand to check edition health, run before and after updates\nhttp://localhost/readV1RC/dev/testEditionLinks.php?db=gandhari_staging&ednIDs=129\nCommand for seq:1486 is remove with links ['tok:4083']\nUPDATE sequence set seq_entity_ids = '{'tok:4081', 'tok:4082'}' where seq_id = 1486;\n********Processing commands for edn154 of Edition for CKI0154.1\ncommand to check edition health, run before and after updates\nhttp://localhost/readV1RC/dev/testEditionLinks.php?db=gandhari_staging&ednIDs=154\nCommand for seq:1725 is remove with links ['cmp:161']\nUPDATE sequence set seq_entity_ids = '{'tok:4414', 'tok:4415', 'tok:4416', 'tok:4417', 'tok:4418', 'tok:4419', 'tok:4420', 'tok:4421', 'tok:4422', 'tok:4423', 'tok:4426', 'tok:4427', 'tok:4428', 'tok:4429', 'tok:4430'}' where seq_id = 1725;\n********Processing commands for edn180 of Edition for CKI0180.1\ncommand to check edition health, run before and after updates\nhttp://localhost/readV1RC/dev/testEditionLinks.php?db=gandhari_staging&ednIDs=180\nCommand for seq:1979 is remove with links ['tok:4957']\nUPDATE sequence set seq_entity_ids = '{'tok:4951', 'tok:4952', 'tok:4953', 'tok:4954', 'cmp:198', 'tok:4958', 'tok:4959'}' where seq_id = 1979;\n********Processing commands for edn185 of Edition for CKI0185.1\ncommand to check edition health, run before and after updates\nhttp://localhost/readV1RC/dev/testEditionLinks.php?db=gandhari_staging&ednIDs=185\nFound invalid command list\n********Processing commands for edn232 of Edition for CKI0232.1\ncommand to check edition health, run before and after updates\nhttp://localhost/readV1RC/dev/testEditionLinks.php?db=gandhari_staging&ednIDs=232\nCommand for seq:2321 is remove with links ['tok:5298']\nUPDATE sequence set seq_entity_ids = '{'tok:5284', 'cmp:226', 'tok:5287', 'tok:5288', 'tok:5289', 'tok:5290', 'tok:5291', 'tok:5292', 'tok:5293', 'tok:5294', 'tok:5295', 'tok:5296', 'tok:5297'}' where seq_id = 2321;\n********Processing commands for edn564 of Edition for CKI0564.1\ncommand to check edition health, run before and after updates\nhttp://localhost/readV1RC/dev/testEditionLinks.php?db=gandhari_staging&ednIDs=564\nCommand for seq:5112 is remove with links ['tok:9010']\nUPDATE sequence set seq_entity_ids = '{'tok:8880', 'tok:8881', 'tok:8882', 'tok:8883', 'tok:8884', 'tok:8885', 'cmp:364', 'tok:8890', 'tok:8891', 'tok:8892', 'tok:8893', 'cmp:365', 'tok:8896', 'tok:8897', 'tok:8898', 'tok:8899', 'tok:8900', 'tok:8901', 'tok:8902', 'tok:8903', 'tok:8904', 'tok:8905', 'tok:8906', 'tok:8907', 'tok:8908', 'tok:8909', 'tok:8910', 'tok:8911', 'tok:8912', 'tok:8913', 'tok:8914', 'tok:8915', 'tok:8916', 'tok:8917', 'tok:8918', 'tok:8919', 'tok:8920', 'tok:8921', 'tok:8922', 'tok:8923', 'tok:8924', 'tok:8925', 'tok:8926', 'tok:8927', 'tok:8928', 'tok:8929', 'tok:8930', 'tok:8931', 'tok:8932', 'tok:8933', 'tok:8934', 'tok:8935', 'tok:8936', 'tok:8937', 'tok:8938', 'tok:8939', 'tok:8940', 'tok:8941', 'tok:8942', 'tok:8943', 'tok:8944', 'tok:8945', 'tok:8946', 'tok:8947', 'tok:8948', 'tok:8949', 'tok:8950', 'tok:8951', 'tok:8952', 'tok:8953', 'tok:8954', 'tok:8955', 'tok:8956', 'tok:8957', 'tok:8958', 'tok:8959', 'tok:8960', 'tok:8961', 'tok:8962', 'tok:8963', 'tok:8964', 'tok:8965', 'tok:8966', 'tok:8967', 'tok:8968', 'tok:8969', 'tok:8970', 'tok:8971', 'tok:8972', 'tok:8973', 'tok:8974', 'tok:8975', 'tok:8976', 'tok:8977', 'tok:8978', 'tok:8979', 'tok:8980', 'tok:8981', 'tok:8982', 'tok:8983', 'tok:8984', 'tok:8985', 'tok:8986', 'tok:8987', 'tok:8988', 'tok:8989', 'tok:8990', 'tok:8991', 'tok:8992', 'tok:8993', 'tok:8994', 'tok:8995', 'tok:8996', 'tok:8997', 'tok:8998', 'tok:8999', 'tok:9000', 'tok:9001', 'tok:9002', 'tok:9003', 'tok:9004', 'tok:9005', 'tok:9006', 'tok:9007', 'tok:9008', 'tok:9009', 'tok:9011', 'tok:9012', 'tok:9013', 'tok:9014', 'tok:9015', 'tok:9016', 'tok:9017', 'tok:9018', 'tok:9019', 'tok:9020', 'tok:9021', 'tok:9022', 'tok:9023', 'tok:9024', 'tok:9025', 'tok:9026', 'tok:9027', 'tok:9028', 'tok:9029', 'tok:9030', 'tok:9031', 'tok:9032', 'tok:9033', 'tok:9034', 'tok:9035', 'tok:9036', 'tok:9037', 'tok:9038', 'tok:9039', 'tok:9040', 'tok:9041', 'tok:9042', 'tok:9043', 'tok:9044', 'tok:9045', 'tok:9046', 'tok:9047', 'tok:9048', 'tok:9049', 'tok:9050', 'tok:9051', 'tok:9052', 'tok:9053', 'tok:9054', 'tok:9055', 'tok:9056', 'tok:9057', 'tok:9058', 'tok:9059', 'tok:9060', 'tok:9061', 'tok:9062', 'tok:9063', 'tok:9064', 'tok:9065', 'tok:9066', 'tok:9067', 'tok:9068', 'cmp:366', 'tok:9071', 'tok:9072', 'tok:9073', 'tok:9074', 'tok:9075', 'tok:9076', 'tok:9077', 'tok:9078', 'tok:9079', 'tok:9080', 'tok:9081', 'tok:9082', 'tok:9083', 'tok:9084', 'tok:9085', 'tok:9086', 'tok:9087', 'tok:9088', 'tok:9089', 'tok:9090', 'tok:9091', 'tok:9092', 'tok:9093', 'tok:9094', 'tok:9095', 'tok:9096', 'tok:9097', 'tok:9098', 'tok:9099', 'tok:9100', 'tok:9101', 'tok:9102', 'tok:9103', 'tok:9104', 'tok:9105', 'tok:9106', 'tok:9107', 'tok:9108', 'tok:9109'}' where seq_id = 5112;\n********Processing commands for edn716 of Edition for CKI0716.1\ncommand to check edition health, run before and after updates\nhttp://localhost/readV1RC/dev/testEditionLinks.php?db=gandhari_staging&ednIDs=716\nCommand for seq:6106 is remove with links ['cmp:406']\nUPDATE sequence set seq_entity_ids = '{'tok:9673', 'cmp:407', 'tok:9676', 'cmp:408'}' where seq_id = 6106;\n********Processing commands for edn1078 of Edition for CKI1073.1\ncommand to check edition health, run before and after updates\nhttp://localhost/readV1RC/dev/testEditionLinks.php?db=gandhari_staging&ednIDs=1078\nCommand for seq:8408 is remove with links ['cmp:493']\nUPDATE sequence set seq_entity_ids = '{'tok:11061', 'tok:11062'}' where seq_id = 8408;\n********Processing commands for edn1389 of Edition for CKD0214.1\ncommand to check edition health, run before and after updates\nhttp://localhost/readV1RC/dev/testEditionLinks.php?db=gandhari_staging&ednIDs=1389\nCommand for seq:14571 is remove with links ['tok:25890']\nUPDATE sequence set seq_entity_ids = '{'tok:25822', 'tok:25823', 'tok:25824', 'tok:25825', 'tok:25826', 'tok:25827', 'tok:25828', 'tok:25829', 'tok:25830', 'tok:25831', 'tok:25832', 'tok:25833', 'tok:25834', 'tok:25835', 'tok:25836', 'tok:25837', 'tok:25838', 'tok:25839', 'tok:25840', 'tok:25841', 'tok:25842', 'tok:25843', 'tok:25844', 'tok:25845', 'tok:25846', 'tok:25847', 'tok:25848', 'tok:25849', 'tok:25850', 'tok:25851', 'tok:25852', 'tok:25853', 'tok:25854', 'tok:25855', 'tok:25856', 'tok:25857', 'tok:25858', 'tok:25859', 'tok:25860', 'tok:25861', 'tok:25862', 'tok:25863', 'tok:25864', 'tok:25865', 'tok:25866', 'tok:25867', 'tok:25868', 'tok:25869', 'tok:25870', 'cmp:717', 'tok:25874', 'tok:25875', 'cmp:718', 'tok:25879', 'tok:25880', 'tok:25881', 'tok:25882', 'tok:25883', 'tok:25884', 'tok:25885', 'tok:25886', 'tok:25887', 'tok:25888', 'tok:25889', 'tok:25891', 'tok:25892', 'tok:25893', 'tok:25894'}' where seq_id = 14571;\n********Processing commands for edn1401 of Edition for CKD0226.1\ncommand to check edition health, run before and after updates\nhttp://localhost/readV1RC/dev/testEditionLinks.php?db=gandhari_staging&ednIDs=1401\nCommand for seq:14783 is remove with links ['tok:26571']\nUPDATE sequence set seq_entity_ids = '{'tok:26552', 'tok:26553', 'tok:26554', 'tok:26555', 'tok:26556', 'tok:26557', 'tok:26558', 'tok:26559', 'tok:26560', 'tok:26561', 'tok:26562', 'tok:26563', 'tok:26564', 'tok:26565', 'tok:26566', 'tok:26567', 'tok:26568', 'tok:26569', 'tok:26570', 'tok:26572', 'tok:26573', 'tok:26574', 'tok:26575', 'tok:26576', 'tok:26577', 'tok:26578', 'tok:26579', 'tok:26580', 'tok:26581', 'tok:26582', 'tok:26583', 'tok:26584', 'tok:26585', 'tok:26586', 'tok:26587', 'tok:26588', 'tok:26589', 'tok:26590', 'tok:26591', 'tok:26592', 'tok:26593', 'tok:26594', 'tok:26595', 'tok:26596', 'tok:26597', 'tok:26598'}' where seq_id = 14783;\n********Processing commands for edn1403 of Edition for CKD0228.1\ncommand to check edition health, run before and after updates\nhttp://localhost/readV1RC/dev/testEditionLinks.php?db=gandhari_staging&ednIDs=1403\nCommand for seq:14805 is remove with links ['tok:26654']\nUPDATE sequence set seq_entity_ids = '{'tok:26612', 'tok:26613', 'tok:26614', 'tok:26615', 'tok:26616', 'tok:26617', 'tok:26618', 'tok:26619', 'tok:26620', 'tok:26621', 'tok:26622', 'tok:26623', 'tok:26624', 'tok:26625', 'tok:26626', 'tok:26627', 'tok:26628', 'tok:26629', 'tok:26630', 'tok:26631', 'tok:26632', 'tok:26633', 'tok:26634', 'tok:26635', 'tok:26636', 'tok:26637', 'tok:26638', 'tok:26639', 'tok:26640', 'tok:26641', 'tok:26642', 'tok:26643', 'tok:26644', 'tok:26645', 'tok:26646', 'tok:26647', 'tok:26648', 'tok:26649', 'tok:26650', 'tok:26651', 'tok:26652', 'tok:26653', 'tok:26655', 'tok:26656', 'tok:26657', 'tok:26658', 'tok:26659', 'tok:26660', 'tok:26661', 'tok:26662', 'tok:26663', 'tok:26664', 'tok:26665', 'tok:26666', 'tok:26667', 'tok:26668', 'tok:26669', 'tok:26670', 'tok:26671', 'tok:26672', 'tok:26673', 'tok:26674', 'tok:26675', 'tok:26676', 'tok:26677', 'tok:26678', 'tok:26679', 'tok:26680', 'tok:26681', 'tok:26682', 'tok:26683', 'tok:26684', 'tok:26685', 'tok:26686', 'tok:26687', 'tok:26688', 'tok:26689', 'tok:26690', 'tok:26691', 'tok:26692', 'tok:26693', 'tok:26694', 'tok:26695'}' where seq_id = 14805;\n********Processing commands for edn1421 of Edition for CKD0246.1\ncommand to check edition health, run before and after updates\nhttp://localhost/readV1RC/dev/testEditionLinks.php?db=gandhari_staging&ednIDs=1421\nCommand for seq:15073 is remove with links ['tok:27226', 'tok:27228']\nUPDATE sequence set seq_entity_ids = '{'tok:27221', 'tok:27222', 'tok:27223', 'tok:27224', 'tok:27225', 'tok:27227', 'tok:27229', 'tok:27230', 'tok:27231', 'tok:27232', 'tok:27233', 'tok:27234', 'tok:27235', 'tok:27236', 'tok:27237', 'tok:27238', 'tok:27239', 'tok:27240', 'tok:27241', 'tok:27242', 'tok:27243', 'tok:27244', 'tok:27245', 'tok:27246', 'tok:27247', 'tok:27248', 'tok:27249', 'tok:27250', 'tok:27251', 'tok:27252', 'tok:27253', 'tok:27254', 'tok:27255', 'tok:27256', 'tok:27257', 'tok:27258', 'tok:27259', 'tok:27260', 'tok:27261', 'tok:27262'}' where seq_id = 15073;\n********Processing commands for edn1463 of Edition for CKD0288.1\ncommand to check edition health, run before and after updates\nhttp://localhost/readV1RC/dev/testEditionLinks.php?db=gandhari_staging&ednIDs=1463\nCommand for seq:15693 is remove with links ['tok:29368']\nUPDATE sequence set seq_entity_ids = '{'tok:29353', 'tok:29354', 'tok:29355', 'tok:29356', 'tok:29357', 'tok:29358', 'tok:29359', 'tok:29360', 'tok:29361', 'tok:29362', 'tok:29363', 'tok:29364', 'tok:29365', 'tok:29366', 'tok:29367', 'tok:29369', 'tok:29370', 'tok:29371', 'tok:29372', 'tok:29373', 'tok:29374', 'tok:29375', 'tok:29376', 'tok:29377', 'tok:29378', 'tok:29379', 'tok:29380', 'tok:29381', 'tok:29382', 'tok:29383', 'tok:29384', 'tok:29385', 'tok:29386', 'tok:29387', 'tok:29388', 'tok:29389', 'tok:29390', 'tok:29391', 'tok:29392', 'tok:29393', 'tok:29394', 'tok:29395', 'tok:29396', 'tok:29397', 'tok:29398', 'tok:29399', 'tok:29400', 'tok:29401', 'tok:29402', 'tok:29403', 'tok:29404', 'tok:29405', 'tok:29406', 'tok:29407', 'tok:29408', 'tok:29409', 'tok:29410', 'tok:29411', 'tok:29412', 'tok:29413', 'tok:29414', 'tok:29415', 'tok:29416', 'tok:29417', 'tok:29418', 'tok:29419', 'tok:29420', 'tok:29421', 'tok:29422', 'tok:29423', 'tok:29424', 'tok:29425', 'tok:29426', 'tok:29427', 'tok:29428', 'tok:29429', 'tok:29430', 'tok:29431', 'tok:29432', 'tok:29433', 'tok:29434', 'tok:29435', 'tok:29436', 'tok:29437', 'tok:29438', 'tok:29439', 'tok:29440', 'tok:29441', 'tok:29442', 'tok:29443', 'tok:29444', 'tok:29445', 'tok:29446', 'tok:29447', 'tok:29448', 'tok:29449', 'tok:29450', 'tok:29451', 'tok:29452', 'tok:29453', 'tok:29454', 'tok:29455', 'tok:29456', 'tok:29457', 'tok:29458', 'tok:29459', 'tok:29460', 'tok:29461', 'tok:29462', 'tok:29463', 'tok:29464', 'tok:29465', 'tok:29466'}' where seq_id = 15693;\n********Processing commands for edn1473 of Edition for CKD0298.1\ncommand to check edition health, run before and after updates\nhttp://localhost/readV1RC/dev/testEditionLinks.php?db=gandhari_staging&ednIDs=1473\nCommand for seq:15899 is remove with links ['tok:30097', 'tok:30098', 'tok:30107']\nUPDATE sequence set seq_entity_ids = '{'tok:30071', 'cmp:744', 'tok:30075', 'tok:30076', 'tok:30077', 'tok:30078', 'tok:30079', 'tok:30080', 'tok:30081', 'tok:30082', 'tok:30083', 'tok:30084', 'cmp:745', 'tok:30088', 'tok:30089', 'tok:30090', 'tok:30091', 'tok:30092', 'tok:30093', 'tok:30094', 'tok:30095', 'tok:30096', 'tok:30099', 'tok:30100', 'tok:30101', 'tok:30102', 'tok:30103', 'tok:30104', 'tok:30105', 'tok:30106', 'tok:30108', 'tok:30109', 'tok:30110', 'tok:30111', 'tok:30112', 'tok:30113', 'tok:30114', 'tok:30115', 'tok:30116', 'tok:30117', 'tok:30118', 'tok:30119', 'tok:30120', 'tok:30121'}' where seq_id = 15899;\n********Processing commands for edn1491 of Edition for CKD0316.1\ncommand to check edition health, run before and after updates\nhttp://localhost/readV1RC/dev/testEditionLinks.php?db=gandhari_staging&ednIDs=1491\nCommand for seq:16171 is remove with links ['tok:30968']\nUPDATE sequence set seq_entity_ids = '{'tok:30954', 'tok:30955', 'tok:30956', 'tok:30957', 'tok:30958', 'tok:30959', 'tok:30960', 'tok:30961', 'tok:30962', 'tok:30963', 'tok:30964', 'tok:30965', 'tok:30966', 'tok:30967', 'tok:30969', 'tok:30970', 'tok:30971', 'tok:30972', 'tok:30973'}' where seq_id = 16171;\n********Processing commands for edn1493 of Edition for CKD0318.1\ncommand to check edition health, run before and after updates\nhttp://localhost/readV1RC/dev/testEditionLinks.php?db=gandhari_staging&ednIDs=1493\nCommand for seq:16203 is remove with links ['tok:31130']\nUPDATE sequence set seq_entity_ids = '{'tok:31064', 'tok:31065', 'tok:31066', 'tok:31067', 'tok:31068', 'tok:31069', 'tok:31070', 'tok:31071', 'tok:31072', 'tok:31073', 'tok:31074', 'tok:31075', 'tok:31076', 'tok:31077', 'tok:31078', 'tok:31079', 'tok:31080', 'cmp:748', 'tok:31084', 'tok:31085', 'tok:31086', 'tok:31087', 'tok:31088', 'tok:31089', 'tok:31090', 'tok:31091', 'cmp:749', 'tok:31096', 'tok:31097', 'tok:31098', 'tok:31099', 'tok:31100', 'tok:31101', 'tok:31102', 'tok:31103', 'tok:31104', 'tok:31105', 'tok:31106', 'tok:31107', 'tok:31108', 'tok:31109', 'tok:31110', 'tok:31111', 'tok:31112', 'tok:31113', 'tok:31114', 'tok:31115', 'tok:31116', 'tok:31117', 'tok:31118', 'tok:31119', 'tok:31120', 'tok:31121', 'tok:31122', 'tok:31123', 'tok:31124', 'tok:31125', 'tok:31126', 'tok:31127', 'tok:31128', 'tok:31129', 'tok:31131', 'tok:31132', 'tok:31133', 'tok:31134', 'tok:31135', 'tok:31136', 'tok:31137', 'tok:31138', 'tok:31139', 'tok:31140', 'tok:31141', 'tok:31142', 'tok:31143', 'tok:31144', 'tok:31145', 'tok:31146', 'tok:31147', 'tok:31148', 'tok:31149', 'tok:31150', 'tok:31151', 'tok:31152', 'cmp:750', 'tok:31155', 'tok:31156', 'tok:31157', 'tok:31158', 'tok:31159', 'tok:31160', 'tok:31161', 'tok:31162', 'tok:31163', 'tok:31164'}' where seq_id = 16203;\n********Processing commands for edn1551 of Edition for CKD0376.1\ncommand to check edition health, run before and after updates\nhttp://localhost/readV1RC/dev/testEditionLinks.php?db=gandhari_staging&ednIDs=1551\nCommand for seq:17235 is remove with links ['tok:35014', 'tok:35015', 'tok:35016']\nUPDATE sequence set seq_entity_ids = '{'tok:34999', 'tok:35000', 'tok:35001', 'tok:35002', 'tok:35003', 'tok:35004', 'tok:35005', 'tok:35006', 'tok:35007', 'tok:35008', 'tok:35009', 'tok:35010', 'tok:35011', 'tok:35012', 'tok:35013', 'tok:35017', 'tok:35018', 'tok:35019', 'tok:35020', 'tok:35021', 'tok:35022', 'tok:35023', 'tok:35024', 'tok:35025', 'tok:35026', 'tok:35027', 'tok:35028', 'tok:35029', 'tok:35030', 'tok:35031', 'tok:35032', 'tok:35033', 'tok:35034', 'tok:35035', 'tok:35036', 'tok:35037', 'tok:35038', 'tok:35039', 'tok:35040', 'tok:35041', 'tok:35042', 'tok:35043', 'tok:35044', 'tok:35045', 'tok:35046', 'tok:35047', 'tok:35048', 'tok:35049', 'tok:35050', 'tok:35051', 'tok:35052', 'tok:35053', 'tok:35054', 'tok:35055', 'tok:35056', 'tok:35057', 'tok:35058', 'tok:35059', 'tok:35060', 'tok:35061', 'tok:35062', 'tok:35063', 'tok:35064', 'tok:35065', 'tok:35066', 'tok:35067', 'tok:35068', 'tok:35069', 'tok:35070', 'tok:35071', 'tok:35072', 'tok:35073', 'tok:35074', 'tok:35075', 'tok:35076', 'tok:35077', 'tok:35078', 'tok:35079', 'tok:35080', 'tok:35081', 'tok:35082', 'tok:35083', 'tok:35084', 'tok:35085', 'tok:35086', 'tok:35087', 'tok:35088', 'tok:35089', 'tok:35090', 'tok:35091', 'tok:35092', 'tok:35093', 'tok:35094', 'tok:35095', 'tok:35096', 'tok:35097', 'tok:35098', 'tok:35099', 'tok:35100', 'tok:35101', 'tok:35102', 'tok:35103', 'tok:35104', 'tok:35105', 'tok:35106'}' where seq_id = 17235;\n********Processing commands for edn1594 of Edition for CKD0419.1\ncommand to check edition health, run before and after updates\nhttp://localhost/readV1RC/dev/testEditionLinks.php?db=gandhari_staging&ednIDs=1594\nCommand for seq:17997 is remove with links ['cmp:817']\nUPDATE sequence set seq_entity_ids = '{'tok:37714', 'tok:37715', 'tok:37716', 'tok:37717', 'tok:37718', 'tok:37719', 'tok:37720', 'tok:37721', 'tok:37722', 'tok:37723', 'tok:37724', 'tok:37725', 'tok:37726', 'tok:37727', 'tok:37728', 'tok:37729', 'tok:37730', 'tok:37731', 'tok:37732', 'tok:37733', 'tok:37734', 'tok:37735', 'tok:37736', 'cmp:811', 'tok:37740', 'cmp:812', 'tok:37743', 'cmp:813', 'tok:37746', 'tok:37747', 'tok:37748', 'tok:37749', 'tok:37750', 'tok:37751', 'tok:37752', 'tok:37753', 'tok:37754', 'tok:37755', 'tok:37756', 'tok:37757', 'tok:37758', 'tok:37759', 'tok:37760', 'tok:37761', 'tok:37762', 'tok:37763', 'tok:37764', 'tok:37765', 'tok:37766', 'tok:37767', 'tok:37768', 'tok:37769', 'cmp:814', 'tok:37772', 'tok:37773', 'tok:37774', 'tok:37775', 'tok:37776', 'tok:37777', 'tok:37778', 'tok:37779', 'tok:37780', 'tok:37781', 'tok:37782', 'tok:37783', 'tok:37784', 'tok:37785', 'tok:37786', 'tok:37787', 'cmp:815', 'tok:37790', 'tok:37791', 'tok:37792', 'tok:37793', 'tok:37794', 'tok:37795', 'tok:37796', 'tok:37797', 'tok:37798', 'tok:37799', 'tok:37800', 'tok:37801', 'tok:37802', 'tok:37803', 'tok:37804', 'tok:37805', 'tok:37806', 'tok:37807', 'tok:37808', 'tok:37809', 'tok:37810', 'tok:37811', 'tok:37812', 'tok:37813', 'tok:37814', 'tok:37815', 'tok:37816', 'tok:37817', 'tok:37818', 'tok:37819', 'tok:37820', 'tok:37821', 'tok:37822', 'tok:37823', 'tok:37824', 'tok:37825', 'tok:37826', 'tok:37827', 'tok:37828', 'tok:37829', 'tok:37830', 'tok:37831', 'tok:37832', 'tok:37833', 'tok:37834', 'tok:37835', 'tok:37836', 'tok:37837', 'tok:37838', 'tok:37839', 'tok:37840', 'tok:37841', 'tok:37842', 'tok:37843', 'tok:37844', 'tok:37845', 'tok:37846', 'tok:37847', 'tok:37848', 'tok:37849', 'tok:37850', 'tok:37851', 'tok:37852', 'tok:37853', 'tok:37854', 'tok:37855', 'tok:37856', 'tok:37857', 'tok:37858', 'tok:37859', 'tok:37860', 'tok:37861', 'tok:37862', 'tok:37863', 'tok:37864', 'tok:37865', 'tok:37866', 'tok:37867', 'tok:37868', 'tok:37869', 'tok:37870', 'tok:37871', 'tok:37872', 'tok:37873', 'tok:37874', 'tok:37875', 'tok:37876', 'tok:37877', 'tok:37878', 'tok:37879', 'tok:37880', 'tok:37881', 'tok:37882', 'tok:37883', 'tok:37884', 'tok:37885', 'cmp:816', 'tok:37888', 'tok:37889', 'tok:37893', 'tok:37894', 'tok:37895', 'tok:37896', 'tok:37897', 'tok:37898', 'tok:37899', 'tok:37900', 'tok:37901', 'tok:37902', 'tok:37903', 'tok:37904', 'tok:37905', 'cmp:818'}' where seq_id = 17997;\n********Processing commands for edn1606 of Edition for CKD0431.1\ncommand to check edition health, run before and after updates\nhttp://localhost/readV1RC/dev/testEditionLinks.php?db=gandhari_staging&ednIDs=1606\nCommand for seq:18235 is remove with links ['tok:38746']\nUPDATE sequence set seq_entity_ids = '{'tok:38618', 'tok:38619', 'tok:38620', 'tok:38621', 'tok:38622', 'tok:38623', 'tok:38624', 'tok:38625', 'tok:38626', 'tok:38627', 'tok:38628', 'tok:38629', 'tok:38630', 'tok:38631', 'tok:38632', 'tok:38633', 'tok:38634', 'tok:38635', 'tok:38636', 'tok:38637', 'tok:38638', 'tok:38639', 'tok:38640', 'tok:38641', 'tok:38642', 'tok:38643', 'cmp:828', 'tok:38648', 'tok:38649', 'tok:38650', 'tok:38651', 'tok:38652', 'tok:38653', 'tok:38654', 'tok:38655', 'tok:38656', 'tok:38657', 'tok:38658', 'tok:38659', 'tok:38660', 'tok:38661', 'tok:38662', 'tok:38663', 'tok:38664', 'tok:38665', 'tok:38666', 'tok:38667', 'tok:38668', 'tok:38669', 'tok:38670', 'tok:38671', 'tok:38672', 'tok:38673', 'tok:38674', 'tok:38675', 'tok:38676', 'tok:38677', 'tok:38678', 'tok:38679', 'tok:38680', 'cmp:829', 'tok:38683', 'tok:38684', 'tok:38685', 'tok:38686', 'tok:38687', 'tok:38688', 'tok:38689', 'tok:38690', 'tok:38691', 'tok:38692', 'tok:38693', 'tok:38694', 'tok:38695', 'tok:38696', 'tok:38697', 'tok:38698', 'tok:38699', 'tok:38700', 'tok:38701', 'tok:38702', 'tok:38703', 'tok:38704', 'tok:38705', 'tok:38706', 'tok:38707', 'tok:38708', 'tok:38709', 'tok:38710', 'tok:38711', 'tok:38712', 'tok:38713', 'tok:38714', 'tok:38715', 'tok:38716', 'tok:38717', 'tok:38718', 'tok:38719', 'tok:38720', 'tok:38721', 'tok:38722', 'tok:38723', 'tok:38724', 'cmp:830', 'tok:38728', 'tok:38729', 'tok:38730', 'tok:38731', 'tok:38732', 'tok:38733', 'tok:38734', 'tok:38735', 'tok:38736', 'tok:38737', 'tok:38738', 'tok:38739', 'tok:38740', 'tok:38741', 'tok:38742', 'tok:38743', 'tok:38744', 'tok:38745', 'tok:38747', 'tok:38748', 'tok:38749', 'tok:38750', 'tok:38751', 'tok:38752', 'tok:38753', 'tok:38754', 'tok:38755', 'tok:38756', 'tok:38757', 'tok:38758', 'tok:38759', 'tok:38760', 'tok:38761', 'tok:38762', 'tok:38763', 'tok:38764', 'tok:38765', 'tok:38766', 'tok:38767', 'tok:38768', 'tok:38769', 'tok:38770', 'tok:38771', 'tok:38772', 'tok:38773', 'tok:38774', 'tok:38775', 'tok:38776', 'tok:38777', 'tok:38778', 'tok:38779'}' where seq_id = 18235;\n********Processing commands for edn1607 of Edition for CKD0432.1\ncommand to check edition health, run before and after updates\nhttp://localhost/readV1RC/dev/testEditionLinks.php?db=gandhari_staging&ednIDs=1607\nCommand for seq:18277 is remove with links ['tok:38910']\nUPDATE sequence set seq_entity_ids = '{'tok:38780', 'tok:38781', 'tok:38782', 'tok:38783', 'tok:38784', 'tok:38785', 'tok:38786', 'tok:38787', 'tok:38788', 'tok:38789', 'tok:38790', 'tok:38791', 'tok:38792', 'tok:38793', 'tok:38794', 'tok:38795', 'tok:38796', 'tok:38797', 'tok:38798', 'tok:38799', 'tok:38800', 'tok:38801', 'tok:38802', 'tok:38803', 'tok:38804', 'tok:38805', 'tok:38806', 'cmp:831', 'tok:38811', 'tok:38812', 'tok:38813', 'tok:38814', 'tok:38815', 'tok:38816', 'tok:38817', 'tok:38818', 'tok:38819', 'tok:38820', 'tok:38821', 'tok:38822', 'tok:38823', 'tok:38824', 'tok:38825', 'tok:38826', 'tok:38827', 'tok:38828', 'tok:38829', 'tok:38830', 'tok:38831', 'tok:38832', 'tok:38833', 'tok:38834', 'tok:38835', 'tok:38836', 'tok:38837', 'tok:38838', 'tok:38839', 'tok:38840', 'tok:38841', 'tok:38842', 'tok:38843', 'cmp:832', 'tok:38846', 'tok:38847', 'tok:38848', 'tok:38849', 'tok:38850', 'tok:38851', 'tok:38852', 'tok:38853', 'tok:38854', 'tok:38855', 'tok:38856', 'tok:38857', 'tok:38858', 'tok:38859', 'tok:38860', 'tok:38861', 'tok:38862', 'tok:38863', 'tok:38864', 'tok:38865', 'tok:38866', 'tok:38867', 'tok:38868', 'tok:38869', 'tok:38870', 'tok:38871', 'tok:38872', 'tok:38873', 'tok:38874', 'tok:38875', 'tok:38876', 'tok:38877', 'tok:38878', 'tok:38879', 'tok:38880', 'tok:38881', 'tok:38882', 'tok:38883', 'tok:38884', 'tok:38885', 'tok:38886', 'tok:38887', 'tok:38888', 'cmp:833', 'tok:38892', 'tok:38893', 'tok:38894', 'tok:38895', 'tok:38896', 'tok:38897', 'tok:38898', 'tok:38899', 'tok:38900', 'tok:38901', 'tok:38902', 'tok:38903', 'tok:38904', 'tok:38905', 'tok:38906', 'tok:38907', 'tok:38908', 'tok:38909', 'tok:38911', 'tok:38912', 'tok:38913', 'tok:38914', 'tok:38915', 'tok:38916', 'tok:38917', 'tok:38918', 'tok:38919', 'tok:38920', 'tok:38921', 'tok:38922', 'tok:38923', 'tok:38924', 'tok:38925', 'tok:38926', 'tok:38927', 'tok:38928', 'tok:38929', 'tok:38930', 'tok:38931', 'tok:38932', 'tok:38933', 'tok:38934', 'tok:38935', 'tok:38936', 'tok:38937', 'tok:38938'}' where seq_id = 18277;\n********Processing commands for edn1768 of Edition for CKD0593.1\ncommand to check edition health, run before and after updates\nhttp://localhost/readV1RC/dev/testEditionLinks.php?db=gandhari_staging&ednIDs=1768\nCommand for seq:22206 is remove with links ['cmp:1013']\nUPDATE sequence set seq_entity_ids = '{'tok:50990', 'tok:50991', 'tok:50992', 'tok:50993', 'tok:50994', 'tok:50995', 'tok:50996', 'tok:50997', 'tok:50998', 'tok:50999', 'tok:51000', 'tok:51001', 'tok:51002', 'tok:51003', 'tok:51004', 'tok:51005', 'tok:51006', 'tok:51007', 'tok:51008', 'tok:51009', 'tok:51010', 'cmp:1012', 'tok:51014', 'tok:51015', 'tok:51016', 'tok:51017', 'tok:51018', 'tok:51019', 'tok:51022', 'tok:51023', 'tok:51024', 'tok:51025', 'tok:51026', 'tok:51027', 'tok:51028', 'tok:51029', 'tok:51030', 'tok:51031', 'tok:51032', 'tok:51033', 'tok:51034', 'tok:51035', 'tok:51036', 'tok:51037', 'tok:51038', 'tok:51039', 'tok:51040', 'tok:51041', 'tok:51042', 'tok:51043', 'tok:51044', 'tok:51045', 'tok:51046', 'tok:51047', 'tok:51048', 'tok:51049', 'tok:51050', 'tok:51051', 'tok:51052', 'tok:51053', 'tok:51054', 'tok:51055', 'tok:51056', 'tok:51057', 'tok:51058', 'tok:51059', 'tok:51060', 'tok:51061', 'tok:51062', 'tok:51063', 'tok:51064', 'tok:51065', 'tok:51066', 'tok:51067', 'tok:51068', 'tok:51069', 'tok:51070', 'tok:51071', 'tok:51072', 'tok:51073', 'tok:51074', 'tok:51075', 'tok:51076', 'tok:51077', 'tok:51078', 'tok:51079', 'tok:51080', 'tok:51081', 'tok:51082', 'tok:51083', 'tok:51084', 'tok:51085', 'tok:51086', 'tok:51087', 'tok:51088', 'tok:51089', 'tok:51090', 'tok:51091', 'tok:51092', 'tok:51093', 'tok:51094', 'tok:51095', 'tok:51096', 'tok:51097', 'tok:51098', 'tok:51099', 'tok:51100', 'tok:51101'}' where seq_id = 22206;\n********Processing commands for edn1836 of Edition for CKD0661.1\ncommand to check edition health, run before and after updates\nhttp://localhost/readV1RC/dev/testEditionLinks.php?db=gandhari_staging&ednIDs=1836\nCommand for seq:23696 is remove with links ['cmp:1080']\nUPDATE sequence set seq_entity_ids = '{'tok:54636', 'tok:54637', 'tok:54638', 'tok:54639', 'tok:54640', 'cmp:1079', 'tok:54644', 'tok:54645', 'tok:54646', 'tok:54647', 'tok:54648', 'tok:54649', 'tok:54650', 'tok:54651', 'tok:54652', 'tok:54653', 'tok:54654', 'tok:54655', 'tok:54656', 'tok:54657', 'tok:54658', 'tok:54659', 'tok:54660', 'tok:54661', 'tok:54662', 'tok:54663', 'tok:54664', 'tok:54665', 'tok:54666', 'tok:54667', 'tok:54668', 'tok:54669', 'tok:54670', 'tok:54671', 'tok:54672', 'tok:54673', 'tok:54674', 'tok:54675', 'tok:54676', 'tok:54677', 'tok:54678', 'tok:54679', 'tok:54680', 'tok:54684', 'tok:54685', 'tok:54686', 'tok:54687', 'tok:54688', 'tok:54689', 'tok:54690', 'tok:54691', 'tok:54692', 'tok:54693', 'tok:54694', 'tok:54695', 'tok:54696', 'tok:54697', 'tok:54698', 'tok:54699', 'tok:54700', 'tok:54701', 'tok:54702', 'tok:54703', 'tok:54704', 'tok:54705', 'tok:54706', 'tok:54707', 'tok:54708', 'tok:54709', 'tok:54710', 'tok:54711', 'tok:54712', 'tok:54713', 'tok:54714', 'tok:54715', 'tok:54716', 'tok:54717', 'tok:54718', 'tok:54719', 'tok:54720', 'tok:54721', 'tok:54722', 'tok:54723', 'tok:54724', 'tok:54725', 'tok:54726', 'tok:54727', 'tok:54728', 'tok:54729', 'tok:54730', 'tok:54731', 'tok:54732', 'tok:54733', 'tok:54734', 'tok:54735', 'tok:54736', 'tok:54737', 'tok:54738', 'tok:54739', 'tok:54740', 'tok:54741', 'tok:54742', 'tok:54743', 'tok:54744', 'tok:54745', 'tok:54746', 'tok:54747', 'tok:54748', 'tok:54749', 'tok:54750', 'tok:54751'}' where seq_id = 23696;\n********Processing commands for edn1884 of Edition for CKD0709.1\ncommand to check edition health, run before and after updates\nhttp://localhost/readV1RC/dev/testEditionLinks.php?db=gandhari_staging&ednIDs=1884\nCommand for seq:24864 is remove with links ['cmp:1099']\nUPDATE sequence set seq_entity_ids = '{'tok:57191', 'tok:57192', 'tok:57193', 'tok:57194', 'tok:57195', 'tok:57196', 'tok:57197', 'tok:57198', 'tok:57199', 'tok:57200', 'tok:57201', 'cmp:1098', 'tok:57205', 'tok:57206', 'tok:57207', 'tok:57208', 'tok:57209', 'tok:57210', 'tok:57211', 'tok:57212', 'tok:57213', 'tok:57217', 'tok:57218', 'tok:57219', 'tok:57220', 'tok:57221', 'tok:57222', 'tok:57223', 'tok:57224', 'tok:57225', 'tok:57226', 'tok:57227', 'tok:57228', 'tok:57229', 'tok:57230', 'tok:57231', 'tok:57232', 'tok:57233', 'tok:57234', 'tok:57235', 'tok:57236', 'tok:57237', 'tok:57238', 'tok:57239', 'tok:57240', 'tok:57241', 'tok:57242', 'tok:57243', 'tok:57244', 'tok:57245', 'tok:57246', 'tok:57247', 'tok:57248', 'tok:57249', 'tok:57250', 'tok:57251', 'tok:57252', 'tok:57253', 'tok:57254', 'tok:57255', 'tok:57256', 'tok:57257', 'tok:57258', 'tok:57259', 'tok:57260', 'tok:57261', 'tok:57262', 'tok:57263', 'tok:57264', 'tok:57265', 'tok:57266', 'tok:57267', 'tok:57268', 'tok:57269', 'tok:57270', 'tok:57271', 'tok:57272', 'tok:57273', 'tok:57274', 'tok:57275', 'tok:57276', 'tok:57277', 'tok:57278', 'tok:57279', 'tok:57280', 'tok:57281', 'tok:57282', 'tok:57283', 'tok:57284', 'tok:57285', 'tok:57286', 'tok:57287', 'tok:57288', 'tok:57289', 'tok:57290', 'tok:57291', 'tok:57292', 'tok:57293', 'tok:57294', 'tok:57295', 'tok:57296', 'tok:57297', 'tok:57298', 'tok:57299', 'tok:57300', 'tok:57301', 'tok:57302', 'tok:57303', 'tok:57304', 'tok:57305', 'tok:57306', 'tok:57307', 'tok:57308', 'tok:57309', 'tok:57310', 'tok:57311', 'tok:57312', 'tok:57313', 'tok:57314', 'tok:57315', 'tok:57316', 'tok:57317', 'tok:57318', 'tok:57319', 'tok:57320', 'tok:57321', 'tok:57322', 'tok:57323', 'tok:57324', 'tok:57325', 'tok:57326', 'tok:57327', 'tok:57328', 'tok:57329', 'tok:57330', 'tok:57331', 'tok:57332', 'tok:57333', 'tok:57334', 'tok:57335', 'tok:57336', 'tok:57337', 'tok:57338', 'tok:57339', 'tok:57340', 'tok:57341', 'tok:57342', 'tok:57343', 'tok:57344', 'tok:57345', 'tok:57346', 'tok:57347', 'tok:57348', 'tok:57349', 'tok:57350', 'tok:57351', 'tok:57352', 'tok:57353', 'tok:57354', 'tok:57355', 'tok:57356', 'tok:57357', 'tok:57358', 'tok:57359', 'tok:57360', 'tok:57361', 'tok:57362', 'tok:57363', 'tok:57364', 'tok:57365', 'tok:57366', 'tok:57367', 'tok:57368', 'tok:57369', 'tok:57370', 'tok:57371', 'tok:57372', 'tok:57373', 'tok:57374', 'tok:57375', 'tok:57376', 'tok:57377', 'tok:57378', 'tok:57379', 'tok:57380', 'tok:57381', 'tok:57382', 'tok:57383', 'tok:57384', 'tok:57385', 'tok:57386'}' where seq_id = 24864;\n********Processing commands for edn2059 of Edition for CKD0884.1\ncommand to check edition health, run before and after updates\nhttp://localhost/readV1RC/dev/testEditionLinks.php?db=gandhari_staging&ednIDs=2059\nCommand for seq:27766 is remove with links ['tok:66002', 'tok:66007']\nUPDATE sequence set seq_entity_ids = '{'tok:65865', 'tok:65866', 'tok:65867', 'tok:65868', 'tok:65869', 'tok:65870', 'tok:65871', 'tok:65872', 'tok:65873', 'tok:65874', 'tok:65875', 'tok:65876', 'tok:65877', 'tok:65878', 'tok:65879', 'tok:65880', 'tok:65881', 'tok:65882', 'tok:65883', 'tok:65884', 'tok:65885', 'tok:65886', 'tok:65887', 'tok:65888', 'cmp:1209', 'tok:65891', 'tok:65892', 'tok:65893', 'tok:65894', 'tok:65895', 'tok:65896', 'tok:65897', 'tok:65898', 'tok:65899', 'tok:65900', 'tok:65901', 'tok:65902', 'tok:65903', 'tok:65904', 'tok:65905', 'tok:65906', 'tok:65907', 'tok:65908', 'tok:65909', 'tok:65910', 'tok:65911', 'tok:65912', 'tok:65913', 'tok:65914', 'tok:65915', 'tok:65916', 'tok:65917', 'tok:65918', 'tok:65919', 'tok:65920', 'tok:65921', 'tok:65922', 'tok:65923', 'tok:65924', 'tok:65925', 'tok:65926', 'tok:65927', 'tok:65928', 'tok:65929', 'tok:65930', 'tok:65931', 'tok:65932', 'tok:65933', 'tok:65934', 'tok:65935', 'tok:65936', 'tok:65937', 'tok:65938', 'tok:65939', 'tok:65940', 'tok:65941', 'tok:65942', 'tok:65943', 'tok:65944', 'tok:65945', 'tok:65946', 'tok:65947', 'tok:65948', 'tok:65949', 'tok:65950', 'tok:65951', 'tok:65952', 'tok:65953', 'tok:65954', 'tok:65955', 'tok:65956', 'tok:65957', 'tok:65958', 'tok:65959', 'tok:65960', 'tok:65961', 'tok:65962', 'tok:65963', 'tok:65964', 'tok:65965', 'tok:65966', 'tok:65967', 'tok:65968', 'tok:65969', 'tok:65970', 'tok:65971', 'tok:65972', 'tok:65973', 'tok:65974', 'tok:65975', 'tok:65976', 'tok:65977', 'tok:65978', 'tok:65979', 'tok:65980', 'tok:65981', 'tok:65982', 'tok:65983', 'tok:65984', 'tok:65985', 'tok:65986', 'tok:65987', 'tok:65988', 'tok:65989', 'tok:65990', 'tok:65991', 'tok:65992', 'tok:65993', 'tok:65994', 'tok:65995', 'tok:65996', 'tok:65997', 'tok:65998', 'tok:65999', 'tok:66000', 'tok:66001', 'tok:66003', 'tok:66004', 'tok:66005', 'tok:66006', 'tok:66008', 'tok:66009', 'tok:66010', 'tok:66011', 'tok:66012', 'tok:66013', 'tok:66014', 'tok:66015', 'tok:66016', 'tok:66017', 'tok:66018', 'tok:66019', 'tok:66020', 'tok:66021', 'tok:66022', 'tok:66023', 'tok:66024', 'tok:66025', 'tok:66026', 'tok:66027', 'tok:66028', 'tok:66029', 'tok:66030', 'tok:66031', 'tok:66032', 'tok:66033', 'tok:66034', 'tok:66035', 'tok:66036', 'tok:66037', 'tok:66038', 'tok:66039', 'tok:66040', 'tok:66041', 'tok:66042', 'tok:66043', 'tok:66044', 'tok:66045', 'tok:66046', 'tok:66047', 'tok:66048', 'tok:66049', 'tok:66050', 'tok:66051', 'tok:66052', 'tok:66053', 'tok:66054', 'tok:66055', 'tok:66056', 'tok:66057', 'tok:66058', 'tok:66059', 'tok:66060', 'tok:66061', 'tok:66062', 'tok:66063', 'tok:66064', 'tok:66065', 'tok:66066', 'tok:66067', 'tok:66068', 'tok:66069', 'tok:66070', 'tok:66071', 'tok:66072', 'tok:66073', 'tok:66074', 'tok:66075', 'tok:66076', 'tok:66077', 'tok:66078', 'tok:66079', 'tok:66080', 'tok:66081', 'tok:66082', 'tok:66083', 'tok:66084', 'tok:66085', 'tok:66086'}' where seq_id = 27766;\n********Processing commands for edn2072 of Edition for CKM0001.1\ncommand to check edition health, run before and after updates\nhttp://localhost/readV1RC/dev/testEditionLinks.php?db=gandhari_staging&ednIDs=2072\nCommand for seq:28020 is remove with links ['tok:66674']\nUPDATE sequence set seq_entity_ids = '{'tok:66673', 'tok:66675', 'tok:66676'}' where seq_id = 28020;\nCommand for seq:28362 is remove with links ['tok:67275']\nUPDATE sequence set seq_entity_ids = '{'tok:67272', 'tok:67273', 'tok:67274'}' where seq_id = 28362;\nCommand for seq:28436 is remove with links ['tok:67405']\nUPDATE sequence set seq_entity_ids = '{'tok:67404', 'tok:67406', 'tok:67407'}' where seq_id = 28436;\n********Processing commands for edn2088 of Edition for CKM0014.1\ncommand to check edition health, run before and after updates\nhttp://localhost/readV1RC/dev/testEditionLinks.php?db=gandhari_staging&ednIDs=2088\nFound invalid command list\n********Processing commands for edn2093 of Edition for CKM0018.1\ncommand to check edition health, run before and after updates\nhttp://localhost/readV1RC/dev/testEditionLinks.php?db=gandhari_staging&ednIDs=2093\nCommand for seq:30647 is remove with links ['tok:79600', 'tok:79601', 'tok:79602', 'tok:79603']\nUPDATE sequence set seq_entity_ids = '{'tok:79598', 'tok:79599', 'tok:79604', 'tok:79605', 'tok:79606', 'tok:79607', 'tok:79608'}' where seq_id = 30647;\n********Processing commands for edn2336 of Marino 2020\ncommand to check edition health, run before and after updates\nhttp://localhost/readV1RC/dev/testEditionLinks.php?db=gandhari_staging&ednIDs=2336\nCommand for seq:42015 is remove with links ['tok:116850', 'tok:116851', 'tok:116852', 'tok:116853', 'tok:116858', 'tok:116862', 'tok:116882', 'tok:116890']\nUPDATE sequence set seq_entity_ids = '{'tok:116846', 'tok:116847', 'tok:116848', 'tok:116849', 'tok:116854', 'tok:116855', 'tok:116856', 'tok:116857', 'tok:116859', 'tok:116860', 'tok:116861', 'tok:116863', 'tok:116864', 'tok:116865', 'tok:116866', 'tok:116867', 'tok:116868', 'tok:116869', 'tok:116870', 'tok:116871', 'tok:116872', 'tok:116873', 'tok:116874', 'tok:116875', 'tok:116876', 'tok:116877', 'tok:116878', 'tok:116879', 'tok:116880', 'tok:116881', 'tok:116883', 'tok:116884', 'tok:116885', 'tok:116886', 'tok:116887', 'tok:116888', 'tok:116889', 'tok:116891', 'tok:116892', 'tok:116893', 'tok:116894', 'tok:116895', 'tok:116896'}' where seq_id = 42015;\n********Processing commands for edn2661 of Edition for CKC0142.1\ncommand to check edition health, run before and after updates\nhttp://localhost/readV1RC/dev/testEditionLinks.php?db=gandhari_staging&ednIDs=2661\nCommand for seq:40535 is remove with links ['tok:113632']\nUPDATE sequence set seq_entity_ids = '{'tok:113631', 'tok:113633', 'tok:113634'}' where seq_id = 40535;\n********Processing commands for edn2748 of Edition for CKC0229.1\ncommand to check edition health, run before and after updates\nhttp://localhost/readV1RC/dev/testEditionLinks.php?db=gandhari_staging&ednIDs=2748\nCommand for seq:41057 is remove with links ['tok:113955']\nUPDATE sequence set seq_entity_ids = '{}' where seq_id = 41057;\n********Processing commands for edn2753 of Edition for CKC0234.1\ncommand to check edition health, run before and after updates\nhttp://localhost/readV1RC/dev/testEditionLinks.php?db=gandhari_staging&ednIDs=2753\nCommand for seq:41087 is remove with links ['cmp:2334']\nUPDATE sequence set seq_entity_ids = '{'tok:113973', 'tok:113974'}' where seq_id = 41087;\n********Processing commands for edn2767 of Edition for CKC0248.1\ncommand to check edition health, run before and after updates\nhttp://localhost/readV1RC/dev/testEditionLinks.php?db=gandhari_staging&ednIDs=2767\nCommand for seq:41171 is remove with links ['cmp:2337']\nUPDATE sequence set seq_entity_ids = '{}' where seq_id = 41171;\n********Processing commands for edn2771 of Edition for CKC0252.1\ncommand to check edition health, run before and after updates\nhttp://localhost/readV1RC/dev/testEditionLinks.php?db=gandhari_staging&ednIDs=2771\nCommand for seq:41195 is remove with links ['cmp:2338']\nUPDATE sequence set seq_entity_ids = '{'tok:114036'}' where seq_id = 41195;\n********Processing commands for edn2780 of Edition for CKC0261.1\ncommand to check edition health, run before and after updates\nhttp://localhost/readV1RC/dev/testEditionLinks.php?db=gandhari_staging&ednIDs=2780\nCommand for seq:41249 is remove with links ['tok:114058', 'tok:114060']\nUPDATE sequence set seq_entity_ids = '{'tok:114057', 'tok:114059', 'tok:114061'}' where seq_id = 41249;\n********Processing commands for edn2784 of Edition for CKC0265.1\ncommand to check edition health, run before and after updates\nhttp://localhost/readV1RC/dev/testEditionLinks.php?db=gandhari_staging&ednIDs=2784\nCommand for seq:41273 is remove with links ['tok:114073', 'tok:114075']\nUPDATE sequence set seq_entity_ids = '{'tok:114072', 'tok:114074', 'tok:114076'}' where seq_id = 41273;\n********Processing commands for edn2820 of Edition for CKC0301.1\ncommand to check edition health, run before and after updates\nhttp://localhost/readV1RC/dev/testEditionLinks.php?db=gandhari_staging&ednIDs=2820\nCommand for seq:41489 is remove with links ['tok:114229', 'tok:114230', 'tok:114231', 'tok:114232', 'tok:114233']\nUPDATE sequence set seq_entity_ids = '{}' where seq_id = 41489;\n********Processing commands for edn2840 of Edition for CKC0321.1\ncommand to check edition health, run before and after updates\nhttp://localhost/readV1RC/dev/testEditionLinks.php?db=gandhari_staging&ednIDs=2840\nCommand for seq:41609 is remove with links ['tok:114308']\nUPDATE sequence set seq_entity_ids = '{'tok:114306', 'tok:114307', 'tok:114309', 'tok:114310'}' where seq_id = 41609;\n********Processing commands for edn2845 of Edition for CKC0326.1\ncommand to check edition health, run before and after updates\nhttp://localhost/readV1RC/dev/testEditionLinks.php?db=gandhari_staging&ednIDs=2845\nCommand for seq:41639 is remove with links ['tok:11432', 'tok:114328', 'tok:114329']\nchild link tok:11432 not found in childlinks of seq:41639.\nUPDATE sequence set seq_entity_ids = '{'tok:114324', 'tok:114325', 'tok:114326', 'tok:114327'}' where seq_id = 41639;\n********Processing commands for edn2846 of Edition for CKC0327.1\ncommand to check edition health, run before and after updates\nhttp://localhost/readV1RC/dev/testEditionLinks.php?db=gandhari_staging&ednIDs=2846\nCommand for seq:41645 is remove with links ['tok:114330', 'tok:114331', 'tok:114332', 'tok:114335']\nUPDATE sequence set seq_entity_ids = '{'tok:114333', 'tok:114334'}' where seq_id = 41645;\n********Processing commands for edn2855 of Edition for CKI0185.1_Marshall\ncommand to check edition health, run before and after updates\nhttp://localhost/readV1RC/dev/testEditionLinks.php?db=gandhari_staging&ednIDs=2855\nFound invalid command list\n********Processing commands for edn2856 of Edition for CKM0368.1\ncommand to check edition health, run before and after updates\nhttp://localhost/readV1RC/dev/testEditionLinks.php?db=gandhari_staging&ednIDs=2856\nFound invalid command list\n********Processing commands for edn2865 of Falk 2021\ncommand to check edition health, run before and after updates\nhttp://localhost/readV1RC/dev/testEditionLinks.php?db=gandhari_staging&ednIDs=2865\nCommand for seq:42041 is remove with links ['tok:116971']\nUPDATE sequence set seq_entity_ids = '{'tok:116926', 'tok:116927', 'tok:116928', 'tok:116929', 'tok:116930', 'tok:116931', 'tok:116932', 'cmp:2359', 'tok:116936', 'tok:116937', 'tok:116938', 'tok:116939', 'tok:116940', 'tok:116941', 'tok:116942', 'tok:116943', 'tok:116944', 'tok:116945', 'tok:116946', 'tok:116947', 'tok:116948', 'tok:116949', 'tok:116950', 'tok:116951', 'tok:116952', 'tok:116953', 'tok:116954', 'tok:116955', 'tok:116956', 'tok:116957', 'tok:116958', 'tok:116959', 'tok:116960', 'tok:116961', 'tok:116962', 'tok:116963', 'tok:116964', 'tok:116965', 'tok:116966', 'tok:116967', 'tok:116968', 'tok:116969', 'tok:116970', 'tok:116972', 'tok:116973', 'tok:116974', 'tok:116975', 'tok:116976'}' where seq_id = 42041;\n"
     ]
    }
   ],
   "source": [
    "log = adjustChildLinks(fixes)\n",
    "for line in log:\n",
    "    print(line)"
   ]
  },
  {
   "cell_type": "code",
   "execution_count": 4,
   "metadata": {},
   "outputs": [
    {
     "output_type": "execute_result",
     "data": {
      "text/plain": [
       "'2801'"
      ]
     },
     "metadata": {},
     "execution_count": 4
    }
   ],
   "source": [
    "a = \"edn2801\"\n",
    "a[3:]"
   ]
  },
  {
   "cell_type": "code",
   "execution_count": 2,
   "outputs": [
    {
     "name": "stdout",
     "output_type": "stream",
     "text": [
      "APP:  db\n",
      "HOST:  db\n",
      "USER:  postgres\n",
      "PASS:  gandhari\n",
      "{'host': 'db', 'port': '5432', 'database': 'homer32', 'user': 'postgres', 'password': 'gandhari'}\n",
      "Error while querying : 'NoneType' object has no attribute 'execute'\n"
     ]
    },
    {
     "ename": "AttributeError",
     "evalue": "'NoneType' object has no attribute 'index'",
     "output_type": "error",
     "traceback": [
      "\u001B[0;31m---------------------------------------------------------------------------\u001B[0m",
      "\u001B[0;31mAttributeError\u001B[0m                            Traceback (most recent call last)",
      "\u001B[0;32m/var/folders/j1/jwd2s0156cv2bqs2h6jb195h002wcr/T/ipykernel_60854/3765948932.py\u001B[0m in \u001B[0;36m<module>\u001B[0;34m\u001B[0m\n\u001B[1;32m      1\u001B[0m \u001B[0;32mfrom\u001B[0m \u001B[0mmodule\u001B[0m\u001B[0;34m.\u001B[0m\u001B[0mcoco\u001B[0m \u001B[0;32mimport\u001B[0m \u001B[0mgetCOCO\u001B[0m\u001B[0;34m\u001B[0m\u001B[0;34m\u001B[0m\u001B[0m\n\u001B[1;32m      2\u001B[0m \u001B[0;34m\u001B[0m\u001B[0m\n\u001B[0;32m----> 3\u001B[0;31m \u001B[0mgetCOCO\u001B[0m\u001B[0;34m(\u001B[0m\u001B[0;34m'homer32'\u001B[0m\u001B[0;34m)\u001B[0m\u001B[0;34m\u001B[0m\u001B[0;34m\u001B[0m\u001B[0m\n\u001B[0m",
      "\u001B[0;32m~/Desktop/Work/ReadProject/read/admin/module/coco.py\u001B[0m in \u001B[0;36mgetCOCO\u001B[0;34m(db)\u001B[0m\n\u001B[1;32m     59\u001B[0m         ''')\n\u001B[1;32m     60\u001B[0m \u001B[0;34m\u001B[0m\u001B[0m\n\u001B[0;32m---> 61\u001B[0;31m     \u001B[0mchildren\u001B[0m \u001B[0;34m=\u001B[0m \u001B[0mmyRQC\u001B[0m\u001B[0;34m.\u001B[0m\u001B[0mgetRowsAsIndexMultiDict\u001B[0m\u001B[0;34m(\u001B[0m\u001B[0mmyRQC\u001B[0m\u001B[0;34m.\u001B[0m\u001B[0mgetColumnNames\u001B[0m\u001B[0;34m(\u001B[0m\u001B[0;34m)\u001B[0m\u001B[0;34m.\u001B[0m\u001B[0mindex\u001B[0m\u001B[0;34m(\u001B[0m\u001B[0;34m'trm_parent'\u001B[0m\u001B[0;34m)\u001B[0m\u001B[0;34m)\u001B[0m\u001B[0;34m\u001B[0m\u001B[0;34m\u001B[0m\u001B[0m\n\u001B[0m\u001B[1;32m     62\u001B[0m \u001B[0;34m\u001B[0m\u001B[0m\n\u001B[1;32m     63\u001B[0m     myRQC.query(\n",
      "\u001B[0;31mAttributeError\u001B[0m: 'NoneType' object has no attribute 'index'"
     ]
    }
   ],
   "source": [
    "from module.coco import getCOCO\n",
    "\n",
    "getCOCO('homer32')"
   ],
   "metadata": {
    "collapsed": false,
    "pycharm": {
     "name": "#%%\n"
    }
   }
  },
  {
   "cell_type": "code",
   "execution_count": null,
   "outputs": [],
   "source": [],
   "metadata": {
    "collapsed": false,
    "pycharm": {
     "name": "#%%\n"
    }
   }
  }
 ],
 "metadata": {
  "kernelspec": {
   "display_name": "Python 3.8.3 64-bit ('base')",
   "language": "python",
   "name": "python38364bitbase07d7521b38964348942e4a9648694ede"
  },
  "language_info": {
   "codemirror_mode": {
    "name": "ipython",
    "version": 3
   },
   "file_extension": ".py",
   "mimetype": "text/x-python",
   "name": "python",
   "nbconvert_exporter": "python",
   "pygments_lexer": "ipython3",
   "version": "3.8.3-final"
  }
 },
 "nbformat": 4,
 "nbformat_minor": 2
}