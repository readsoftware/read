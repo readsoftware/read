{
 "cells": [
  {
   "cell_type": "code",
   "execution_count": null,
   "metadata": {},
   "outputs": [],
   "source": [
    "#pip install psycopg2\n",
    "%load_ext autoreload\n",
    "%autoreload 2"
   ]
  },
  {
   "cell_type": "code",
   "execution_count": null,
   "metadata": {},
   "outputs": [],
   "source": [
    "import psycopg2\n",
    "from psycopg2.extras import RealDictCursor\n",
    "try:\n",
    "    dbname = \"ncodex3\"\n",
    "    conn = psycopg2.connect(host=\"localhost\",\n",
    "                            port= \"5432\",\n",
    "                            database=dbname, \n",
    "                            user=\"postgres\", \n",
    "                            password=\"gandhari\")\n",
    "    cursor = conn.cursor()\n",
    "except (Exception, psycopg2.Error) as error :\n",
    "    print (\"Error while connecting to PostgreSQL\", error)\n",
    "finally:\n",
    "    if (cursor):\n",
    "        print(\"connected to db\",dbname)"
   ]
  },
  {
   "cell_type": "code",
   "execution_count": null,
   "metadata": {},
   "outputs": [],
   "source": [
    "cursor.execute(\"SELECT * from frames;\")\n",
    "record = cursor.fetchone()\n",
    "print(\"Retrieved frame - \", record,\"\\n\")\n"
   ]
  },
  {
   "cell_type": "code",
   "execution_count": null,
   "metadata": {},
   "outputs": [],
   "source": [
    "column_names = []\n",
    "data_rows = []\n",
    "cursor.execute(\"SELECT * from frames order by corpus_id, frame;\")\n",
    "column_names = [desc[0] for desc in cursor.description]\n",
    "#for row in cursor:\n",
    "#    data_rows.append(row)\n",
    "data_rows = cursor.fetchall()\n",
    "\n",
    "print(\"Column names: {}\\n\".format(column_names))"
   ]
  },
  {
   "cell_type": "code",
   "execution_count": null,
   "metadata": {},
   "outputs": [],
   "source": [
    "data_rows"
   ]
  },
  {
   "cell_type": "code",
   "execution_count": null,
   "metadata": {},
   "outputs": [],
   "source": [
    "#closing database connection.\n",
    "if(conn):\n",
    "    cursor.close()\n",
    "    conn.close()\n",
    "    print(\"PostgreSQL connection is closed\")\n",
    "\n"
   ]
  },
  {
   "cell_type": "code",
   "execution_count": null,
   "metadata": {},
   "outputs": [],
   "source": [
    "import pandas as pd\n",
    "data = pd.DataFrame(data_rows)\n",
    "data.columns = column_names\n",
    "data"
   ]
  },
  {
   "cell_type": "code",
   "execution_count": null,
   "metadata": {},
   "outputs": [],
   "source": [
    "import requests\n",
    "import json\n",
    "url = \"https://data.ncodex.org/m/api/manifests/c28a6369-3b7a-4ca6-a1d1-61a41ba675a1\"\n",
    "r = requests.get(url)\n",
    "itemDict = r.json()"
   ]
  },
  {
   "cell_type": "code",
   "execution_count": null,
   "metadata": {},
   "outputs": [],
   "source": [
    "ncx_manifest_metadata = json.dumps(itemDict['metadata'])\n",
    "ncx_manifest_metadata\n",
    "ncx_item_description = itemDict['description'][0]['@value']\n",
    "ncx_item_description\n",
    "ncx_images_license = itemDict['license']\n",
    "ncx_images_license\n",
    "ncx_images_attr = itemDict['attribution']\n",
    "ncx_images_attr\n",
    "image_count = len(itemDict['sequences'][0]['canvases'])\n",
    "image_count"
   ]
  },
  {
   "cell_type": "code",
   "execution_count": null,
   "metadata": {},
   "outputs": [],
   "source": [
    "import ncxmanifest as nmf\n",
    "import json\n",
    "#url = 'https://data.ncodex.org/m/api/manifests/c28a6369-3b7a-4ca6-a1d1-61a41ba675a1'\n",
    "#url = 'https://data.ncodex.org/m/stage/manifests/14437a72-37bb-415a-b3ac-ccedd5d3197c'\n",
    "#url = 'https://data.ncodex.org/m/api/manifests/e6f1fb90-eafe-4542-a990-ca64c989d0a6'\n",
    "#url = 'https://data.ncodex.org/m/prod/manifests/fefe1fc7-913e-40b2-9af2-c5961d0b7439'\n",
    "url = 'https://data.ncodex.org/m/prod/manifests/431f8636-7eab-4429-9999-871925361f25'\n",
    "ncxItemManifest = nmf.NCodexManifest(url)\n"
   ]
  },
  {
   "cell_type": "code",
   "execution_count": null,
   "metadata": {},
   "outputs": [],
   "source": [
    "ncxItemManifest.getItemImages()"
   ]
  },
  {
   "cell_type": "code",
   "execution_count": null,
   "metadata": {},
   "outputs": [],
   "source": [
    "a = {\"txt_title\":\"my text t1\",\"txt_ckn\":\"cki5\",\"txt_owner_id\":4}\n",
    "#['%s' if isinstance(v,str) else '%i' if isinstance(v,int) else '%n'  for v in list(a.values())]\n",
    "','.join([k+\"='\"+str(v)+\"'\" for k, v in a.items()])\n"
   ]
  },
  {
   "cell_type": "code",
   "execution_count": null,
   "metadata": {},
   "outputs": [],
   "source": [
    "import ncxQueryCursor as nqc\n",
    "\n",
    "myQC = nqc.NcxQueryCursor()"
   ]
  },
  {
   "cell_type": "code",
   "execution_count": null,
   "metadata": {},
   "outputs": [],
   "source": [
    "if myQC.hasError():\n",
    "    print(myQC.getError())\n",
    "else:\n",
    "    myQC.query(\"SELECT * from frames where corpus_id = 1 order by frame;\")\n",
    "    print(\"results count: \",myQC.getResultCount())\n",
    "#    for row in myQC:\n",
    "    print(myQC.getRow(4))\n",
    "    print(myQC.getColumnNames())\n",
    "#    myQC.seek()\n",
    "    for row in myQC:\n",
    "        print(myQC.getRow())\n",
    "        print(\"frame id =\",myQC.getColumnValue('frame'))\n"
   ]
  },
  {
   "cell_type": "code",
   "execution_count": null,
   "metadata": {},
   "outputs": [],
   "source": [
    "import module.readQueryCursor as rqc\n",
    "\n",
    "myRQC = rqc.ReadQueryCursor({\n",
    "             'host':'localhost',\n",
    "             'port':'5432',\n",
    "             'database':'homer',\n",
    "             'user': 'postgres',\n",
    "             'password':'gandhari'\n",
    "            })"
   ]
  },
  {
   "cell_type": "code",
   "execution_count": null,
   "metadata": {},
   "outputs": [],
   "source": [
    "def update(tableName,kvData,kvPKey):\n",
    "    \"\"\" update a row in the tableName table \"\"\"\n",
    "    sql = \"UPDATE \"\n",
    "    sql += tableName \n",
    "    sql += \" SET \"\n",
    "    sql += ','.join([k+\"='\"+str(v)+\"'\" for k, v in kvData.items()])\n",
    "    sql += ' WHERE '\n",
    "    sql += ' AND '.join([k+\"=\"+str(v) for k, v in kvPKey.items()])\n",
    "    sql += ' RETURNING *'\n",
    "#    sql += list(kvPKey.keys())[0]\n",
    "\n",
    "    myRQC = rqc.ReadQueryCursor()\n",
    "    myRQC.query(sql,list(kvData.values()))\n",
    "    print(\"results count: \",myRQC.getResultCount())\n",
    "    for row in myRQC:\n",
    "        print(row)\n",
    "    print(myRQC.getColumnNames())\n"
   ]
  },
  {
   "cell_type": "code",
   "execution_count": null,
   "metadata": {},
   "outputs": [],
   "source": [
    "#'insert(\"Text\",{\"txt_title\":\"my text #2\",\"txt_ckn\":\"cki6\",\"txt_owner_id\":\"4\",\"txt_visibility_ids\":\"{6,11}\"},\"txt_id\")'\n",
    "update(\"Text\",{\"txt_title\":\"my text #5\",\"txt_ref\":\"i7\",\"txt_owner_id\":\"11\"},{\"txt_id\":\"7\"})\n"
   ]
  },
  {
   "cell_type": "code",
   "execution_count": null,
   "metadata": {},
   "outputs": [],
   "source": [
    "#myRQC.query(\"select * from text where txt_id = 1;\")\n",
    "#myRQC.seek(0)\n",
    "#txtImgIDs = myRQC.getColumnValue(\"txt_image_ids\")\n",
    "{\"txt_image_ids\":\"{\"+','.join([str(i) for i in txtImgIDs])+\"}\"}"
   ]
  },
  {
   "cell_type": "code",
   "execution_count": null,
   "metadata": {},
   "outputs": [],
   "source": [
    "myRQC.update(\"text\",{\"txt_image_ids\":\"{\"+','.join([str(i) for i in txtImgIDs])+\"}\"},{\"txt_id\":\"1\"})\n",
    "myRQC.seek(0)\n",
    "myRQC.getRow()\n"
   ]
  },
  {
   "cell_type": "code",
   "execution_count": null,
   "metadata": {},
   "outputs": [],
   "source": [
    "myRQC.getTermID(\"lineblock\",\"frame\")"
   ]
  },
  {
   "cell_type": "code",
   "execution_count": null,
   "metadata": {},
   "outputs": [],
   "source": [
    "myRQC.query(\"SELECT c.trm_id FROM term c LEFT JOIN term p on c.trm_parent_id = p.trm_id WHERE c.trm_labels ilike '%image%' and p.trm_labels ilike '%baselinetype%'\")\n",
    "myRQC.getResultCount()"
   ]
  },
  {
   "cell_type": "code",
   "execution_count": null,
   "metadata": {},
   "outputs": [],
   "source": [
    "import os, sys\n",
    "import numpy as np\n",
    "#add parent dir to module search path to find readQueryCursor module\n",
    "sys.path.append(os.path.dirname(os.getcwd()))\n",
    "import module.readQueryCursor as rqc\n",
    "\n",
    "myRQC = rqc.ReadQueryCursor(conf={\n",
    "             'host':'localhost',\n",
    "             'port':'5432',\n",
    "             'database':'gandhari_staging',\n",
    "             'user': 'postgres',\n",
    "             'password':'gandhari'\n",
    "            })"
   ]
  },
  {
   "cell_type": "code",
   "execution_count": null,
   "metadata": {},
   "outputs": [],
   "source": [
    "fixes = [['edn53','Edition for CKI0053.1',[['seq:966','remove',['cmp:110','tok:3564']]]],\n",
    "['edn57','Edition for CKI0057.1',[['seq:1004','remove',['cmp:113','cmp:114']]]],\n",
    "['edn61','Edition for CKI0061.1',[['seq:1046','remove',['cmp:123']]]],\n",
    "['edn63','Edition for CKI0063.1',[['seq:1064','remove',['cmp:126']]]],\n",
    "['edn88','Edition for CKI0088.1',[['seq:1220','remove',['cmp:127']]]],\n",
    "['edn129','Edition for CKI0129.1',[['seq:1486','remove',['tok:4083']]]],\n",
    "['edn154','Edition for CKI0154.1',[['seq:1725','remove',['cmp:161']]]],\n",
    "['edn180','Edition for CKI0180.1',[['seq:1979','remove',['tok:4957']]]],\n",
    "['edn185','Edition for CKI0185.1',[['seq:41700',[]]]],\n",
    "['edn232','Edition for CKI0232.1',[['seq:2321','remove',['tok:5298']]]],\n",
    "['edn564','Edition for CKI0564.1',[['seq:5112','remove',['tok:9010']]]],\n",
    "['edn716','Edition for CKI0716.1',[['seq:6106','remove',['cmp:406']]]],\n",
    "['edn1078','Edition for CKI1073.1',[['seq:8408','remove',['cmp:493']]]],\n",
    "['edn1389','Edition for CKD0214.1',[['seq:14571','remove',['tok:25890']]]],\n",
    "['edn1401','Edition for CKD0226.1',[['seq:14783','remove',['tok:26571']]]],\n",
    "['edn1403','Edition for CKD0228.1',[['seq:14805','remove',['tok:26654']]]],\n",
    "['edn1421','Edition for CKD0246.1',[['seq:15073','remove',['tok:27226','tok:27228']]]],\n",
    "['edn1463','Edition for CKD0288.1',[['seq:15693','remove',['tok:29368']]]],\n",
    "['edn1473','Edition for CKD0298.1',[['seq:15899','remove',['tok:30097','tok:30098','tok:30107']]]],\n",
    "['edn1491','Edition for CKD0316.1',[['seq:16171','remove',['tok:30968']]]],\n",
    "['edn1493','Edition for CKD0318.1',[['seq:16203','remove',['tok:31130']]]],\n",
    "['edn1551','Edition for CKD0376.1',[['seq:17235','remove',['tok:35014','tok:35015','tok:35016']]]],\n",
    "['edn1594','Edition for CKD0419.1',[['seq:17997','remove',['cmp:817']]]],\n",
    "['edn1606','Edition for CKD0431.1',[['seq:18235','remove',['tok:38746']]]],\n",
    "['edn1607','Edition for CKD0432.1',[['seq:18277','remove',['tok:38910']]]],\n",
    "['edn1768','Edition for CKD0593.1',[['seq:22206','remove',['cmp:1013']]]],\n",
    "['edn1836','Edition for CKD0661.1',[['seq:23696','remove',['cmp:1080']]]],\n",
    "['edn1884','Edition for CKD0709.1',[['seq:24864','remove',['cmp:1099']]]],\n",
    "['edn2059','Edition for CKD0884.1',[['seq:27766','remove',['tok:66002','tok:66007']]]],\n",
    "['edn2072','Edition for CKM0001.1',[['seq:28020','remove',['tok:66674']],['seq:28362','remove',['tok:67275']],['seq:28436','remove',['tok:67405']]]],\n",
    "['edn2088','Edition for CKM0014.1',[['seq:30156',[]]]],\n",
    "['edn2093','Edition for CKM0018.1',[['seq:30647','remove',['tok:79600','tok:79601','tok:79602','tok:79603']]]],\n",
    "['edn2336','Marino 2020',[['seq:42015','remove',['tok:116850','tok:116851','tok:116852','tok:116853','tok:116858','tok:116862','tok:116882','tok:116890']]]],\n",
    "['edn2661','Edition for CKC0142.1',[['seq:40535','remove',['tok:113632']]]],\n",
    "['edn2748','Edition for CKC0229.1',[['seq:41057','remove',['tok:113955']]]],\n",
    "['edn2753','Edition for CKC0234.1',[['seq:41087','remove',['cmp:2334']]]],\n",
    "['edn2767','Edition for CKC0248.1',[['seq:41171','remove',['cmp:2337']]]],\n",
    "['edn2771','Edition for CKC0252.1',[['seq:41195','remove',['cmp:2338']]]],\n",
    "['edn2780','Edition for CKC0261.1',[['seq:41249','remove',['tok:114058','tok:114060']]]],\n",
    "['edn2784','Edition for CKC0265.1',[['seq:41273','remove',['tok:114073','tok:114075']]]],\n",
    "['edn2820','Edition for CKC0301.1',[['seq:41489','remove',['tok:114229','tok:114230','tok:114231','tok:114232','tok:114233']]]],\n",
    "['edn2840','Edition for CKC0321.1',[['seq:41609','remove',['tok:114308']]]],\n",
    "['edn2845','Edition for CKC0326.1',[['seq:41639','remove',['tok:11432','tok:114328','tok:114329']]]],\n",
    "['edn2846','Edition for CKC0327.1',[['seq:41645','remove',['tok:114330','tok:114331','tok:114332','tok:114335']]]],\n",
    "['edn2855','Edition for CKI0185.1_Marshall',[['seq:41700',[]]]],\n",
    "['edn2856','Edition for CKM0368.1',[['seq:41871',[]]]],\n",
    "['edn2865','Falk 2021',[['seq:42041','remove',['tok:116971']]]]]"
   ]
  },
  {
   "cell_type": "code",
   "execution_count": null,
   "metadata": {},
   "outputs": [],
   "source": [
    "linkColTableLookupByPrefix = {\n",
    "    'seq':['sequence','seq_entity_ids'],\n",
    "    'cmp':['compound','cmp_component_ids'],\n",
    "    'inf':['inflection','inf_component_ids'],\n",
    "    'lem':['lemma','lem_component_ids'],\n",
    "    'edn':['edition','edn_sequence_ids'],\n",
    "    'tok':['token','tok_grapheme_ids'],\n",
    "    'scl':['syllablecluster','scl_grapheme_ids'],\n",
    "}\n",
    "\n",
    "def getChildLinksForContainer(containerGID):\n",
    "    if containerGID == None:\n",
    "        print(f'call to getChildLinkdsForContainer with invalid param {containerGID}')\n",
    "        return []\n",
    "    if containerGID.find(':') != 3:\n",
    "        print(f'call to getChildLinkdsForContainer expected GID to have : {containerGID}')\n",
    "        return []\n",
    "    prefix,entID = containerGID.split(\":\")\n",
    "    useGIDForm = False\n",
    "    if not prefix in linkColTableLookupByPrefix.keys():\n",
    "        print(f'call to getChildLinkdsForContainer unexpected prefix \"{prefix}\"')\n",
    "        return []\n",
    "    else:\n",
    "        tblName, colName = linkColTableLookupByPrefix.get(prefix)\n",
    "        myRQC.query(f\"select {colName} from {tblName} where {prefix}_id = {entID};\")\n",
    "        return myRQC.getRow(0)[0]    \n",
    "\n",
    "def adjustChildLinks(adjustmentList):\n",
    "    if adjustmentList == None or len(adjustmentList) == 0:\n",
    "        return [\"NOP: invalid or empty list, nothing to do\"]  \n",
    "    log = [\"Log run \"]\n",
    "    for fix in adjustmentList:\n",
    "        if fix == None or len(fix) < 3:\n",
    "            log.append(\"Found invalid command\")\n",
    "            continue\n",
    "        containerGID = fix[0]\n",
    "        containerLabel = fix[1]\n",
    "        cmdLists = fix[2]\n",
    "        if cmdLists == None or  len(cmdLists) == 0:\n",
    "            log.append(f\"Found invalid command lists for {containerGID} of {containerLabel}\")\n",
    "            continue\n",
    "        log.append(f\"********Processing commands for {containerGID} of {containerLabel}\")\n",
    "        log.append(\"command to check edition health, run before and after updates\")\n",
    "        log.append(f\"http://localhost/readV1RC/dev/testEditionLinks.php?db=gandhari_staging&ednIDs={containerGID[3:]}\")\n",
    "        for cmdList in cmdLists:\n",
    "            if cmdList == None or  len(cmdList) <3:\n",
    "                log.append(\"Found invalid command list\")\n",
    "                continue\n",
    "            trgGID = cmdList[0]\n",
    "            cmd = cmdList[1]\n",
    "            links = cmdList[2]\n",
    "            log.append(f\"Command for {trgGID} is {cmd} with links {str(links)}\")\n",
    "            childLinks = getChildLinksForContainer(trgGID)\n",
    "            if cmd == 'remove':\n",
    "                for link in links:\n",
    "                    if link in childLinks:\n",
    "                        childLinks.remove(link)\n",
    "                    else: \n",
    "                        log.append(f\"child link {link} not found in childlinks of {trgGID}.\")\n",
    "            # add code to ensure GID is correctly formed with :\n",
    "            prefix,entID = trgGID.split(\":\")\n",
    "            tblName, colName = linkColTableLookupByPrefix.get(prefix)\n",
    "            log.append(f\"UPDATE {tblName} set {colName} = '{{{str(childLinks).strip('[]')}}}' where {prefix}_id = {entID};\")\n",
    "    return log\n"
   ]
  },
  {
   "cell_type": "code",
   "execution_count": null,
   "metadata": {},
   "outputs": [],
   "source": [
    "log = adjustChildLinks(fixes)\n",
    "for line in log:\n",
    "    print(line)"
   ]
  }
 ],
 "metadata": {
  "kernelspec": {
   "display_name": "Python 3.8.3 64-bit ('base')",
   "language": "python",
   "name": "python38364bitbase07d7521b38964348942e4a9648694ede"
  },
  "language_info": {
   "codemirror_mode": {
    "name": "ipython",
    "version": 3
   },
   "file_extension": ".py",
   "mimetype": "text/x-python",
   "name": "python",
   "nbconvert_exporter": "python",
   "pygments_lexer": "ipython3",
   "version": "3.8.3-final"
  }
 },
 "nbformat": 4,
 "nbformat_minor": 2
}
