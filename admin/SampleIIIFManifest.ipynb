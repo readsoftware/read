{
 "cells": [
  {
   "cell_type": "code",
   "execution_count": null,
   "metadata": {},
   "outputs": [],
   "source": [
    "#pip install psycopg2\n",
    "%load_ext autoreload\n",
    "%autoreload 2"
   ]
  },
  {
   "cell_type": "markdown",
   "metadata": {},
   "source": [
    "## Working with IIIF manifest\n",
    "\n",
    "### loading the manifest from url"
   ]
  },
  {
   "cell_type": "code",
   "execution_count": null,
   "metadata": {},
   "outputs": [],
   "source": [
    "import requests\n",
    "import json\n",
    "url = \"https://somecorp.org/iiif/item1/manifests\"\n",
    "r = requests.get(url)\n",
    "itemDict = r.json()"
   ]
  },
  {
   "cell_type": "code",
   "execution_count": null,
   "metadata": {},
   "outputs": [],
   "source": [
    "iiif_manifest_metadata = json.dumps(itemDict['metadata'])\n",
    "print(f\"manifest metadata: {iiif_manifest_metadata}\")\n",
    "iiif_item_description = itemDict['description'][0]['@value']\n",
    "print(f\"found item {iiif_item_description}\")\n",
    "iiif_images_license = itemDict['license']\n",
    "iiif_images_license\n",
    "iiif_images_attr = itemDict['attribution']\n",
    "iiif_images_attr\n",
    "image_count = len(itemDict['sequences'][0]['canvases'])\n",
    "print(f\"number of images is {image_count}\")"
   ]
  },
  {
   "cell_type": "markdown",
   "metadata": {},
   "source": [
    "### Using iiifManifest library"
   ]
  },
  {
   "cell_type": "code",
   "execution_count": null,
   "metadata": {},
   "outputs": [],
   "source": [
    "import module.iiifManifest as i3fm\n",
    "import json\n",
    "url = 'https://somecorp.org/iiif/item1/manifests'\n",
    "someItemManifest = i3fm.someItemManifest(url)\n",
    "someItemManifest.getItemImages()"
   ]
  }
 ],
 "metadata": {
  "interpreter": {
   "hash": "97ae724bfa85b9b34df7982b8bb8c7216f435b92902d749e4263f71162bea840"
  },
  "kernelspec": {
   "display_name": "Python 3.8.3 64-bit ('base')",
   "language": "python",
   "name": "python3"
  },
  "language_info": {
   "codemirror_mode": {
    "name": "ipython",
    "version": 3
   },
   "file_extension": ".py",
   "mimetype": "text/x-python",
   "name": "python",
   "nbconvert_exporter": "python",
   "pygments_lexer": "ipython3",
   "version": "3.8.3"
  }
 },
 "nbformat": 4,
 "nbformat_minor": 2
}
